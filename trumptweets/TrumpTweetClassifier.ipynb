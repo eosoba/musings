{
 "cells": [
  {
   "cell_type": "code",
   "execution_count": 1,
   "metadata": {
    "collapsed": false
   },
   "outputs": [
    {
     "name": "stdout",
     "output_type": "stream",
     "text": [
      "Populating the interactive namespace from numpy and matplotlib\n"
     ]
    },
    {
     "name": "stderr",
     "output_type": "stream",
     "text": [
      "/usr/local/lib/python2.7/dist-packages/matplotlib/font_manager.py:273: UserWarning: Matplotlib is building the font cache using fc-list. This may take a moment.\n",
      "  warnings.warn('Matplotlib is building the font cache using fc-list. This may take a moment.')\n"
     ]
    }
   ],
   "source": [
    "import json\n",
    "import pandas as pd\n",
    "import numpy as np\n",
    "import re\n",
    "from collections import Counter\n",
    "import string\n",
    "import matplotlib.pyplot as plt\n",
    "from pylab import rcParams\n",
    "plt.style.use('ggplot')\n",
    "\n",
    "%pylab inline"
   ]
  },
  {
   "cell_type": "raw",
   "metadata": {
    "collapsed": false
   },
   "source": [
    "# look at the distribution of missing values for each columns  \n",
    "\n",
    "for i in tweets.columns:\n",
    "    print tweets[i].isnull().value_counts()\n",
    "    print '----------------------'"
   ]
  },
  {
   "cell_type": "raw",
   "metadata": {},
   "source": [
    "for i in tweets.columns:\n",
    "    print tweets[i].sample(10)\n",
    "    print '----------------------'"
   ]
  },
  {
   "cell_type": "markdown",
   "metadata": {
    "collapsed": false
   },
   "source": [
    "# Most of the columns are mostly null or not  very informative. We are going to have to drop a bunch of them."
   ]
  },
  {
   "cell_type": "code",
   "execution_count": 3,
   "metadata": {
    "collapsed": true
   },
   "outputs": [],
   "source": [
    "# Get dirty with the columns\n",
    "\n",
    "with open('trump_tweets_oct11.json') as data_file:    \n",
    "    data = json.load(data_file)\n",
    "\n",
    "tweets = pd.read_json(json.dumps(data))"
   ]
  },
  {
   "cell_type": "code",
   "execution_count": 6,
   "metadata": {
    "collapsed": false
   },
   "outputs": [
    {
     "data": {
      "text/plain": [
       "True     3574\n",
       "False     171\n",
       "Name: retweeted_status, dtype: int64"
      ]
     },
     "execution_count": 6,
     "metadata": {},
     "output_type": "execute_result"
    }
   ],
   "source": [
    "tweets['retweeted_status'].isnull().value_counts()"
   ]
  },
  {
   "cell_type": "code",
   "execution_count": 7,
   "metadata": {
    "collapsed": false
   },
   "outputs": [],
   "source": [
    "tweets['retweet_count'].astype(int)\n",
    "\n",
    "#extract device type\n",
    "tweets.loc[:, 'device'] = tweets['source'] \\\n",
    ".apply(lambda x : 'android' if 'android' in x.lower() else ('iphone' if 'iphone' in x.lower() else 'other'))\n",
    "\n",
    "#extract time information\n",
    "est = pd.to_datetime(tweets['created_at']).dt.tz_localize('UTC').dt.tz_convert('US/Eastern')\n",
    "\n",
    "tweets.loc[:,'hour'] = est.dt.hour\n",
    "tweets.loc[:,'day'] = est.dt.dayofweek\n",
    "tweets.loc[:,'month'] = est.dt.month\n",
    "tweets.loc[:,'year'] = est.dt.year\n",
    "tweets.loc[:,'morning'] = tweets['hour'].apply(lambda x : 1 if x in range(4,11) else 0)\n",
    "tweets.loc[:,'evening'] = tweets['hour'].apply(lambda x : 1 if x in range(12,24) else 0)\n",
    "\n",
    "\n",
    "                                                                      \n",
    "#extract entities\n",
    "tweets.loc[:,'numHashtags'] = tweets['entities'].apply(lambda x : len(x['hashtags']))\n",
    "tweets.loc[:,'numMentions'] = tweets['entities'].apply(lambda x : len(x['user_mentions']))\n",
    "tweets.loc[:,'numMedia'] = tweets['entities'].apply(lambda x : len(x['media']) if 'media' in x.keys() else 0)\n",
    "tweets.loc[:,'hasPlace'] = tweets['place'].isnull().astype(int)\n",
    "tweets.loc[:,'hasUrls'] = tweets.entities.apply(lambda x : len(x['urls']))\n",
    "\n",
    "#dummy code the possibly_sensitive column                                                       \n",
    "tweets = tweets.join(pd.get_dummies(tweets['possibly_sensitive'],prefix='possibly_sensitive', dummy_na=True))                                                                               "
   ]
  },
  {
   "cell_type": "code",
   "execution_count": 8,
   "metadata": {
    "collapsed": false
   },
   "outputs": [],
   "source": [
    "#prepare emotions dictionary\n",
    "with open('NRC-emotion-lexicon-wordlevel-alphabetized-v0.92.txt') as data_file:    \n",
    "    data = data_file.read()\n",
    "\n",
    "nrcList = data[data.find(\"aback\"):].split('\\n')\n",
    "sentimentList = pd.DataFrame([i.split('\\t') for i in nrcList[:-1]])\n",
    "sentimentList[2] = sentimentList[2].astype(float)\n",
    "emotion = {k: g[0].tolist() for k,g in sentimentList[sentimentList[2] > 0].groupby(1)}"
   ]
  },
  {
   "cell_type": "code",
   "execution_count": 9,
   "metadata": {
    "collapsed": false
   },
   "outputs": [],
   "source": [
    "# clean up the tweet text\n",
    "# label the sentiments in each tweets\n",
    "\n",
    "def cleanify(x):\n",
    "    new =  re.sub(r\"[\\$@#\\?\\!,\\-:\\\"\\'\\.\\\\(\\\\)]\",\"\", x.lower())\n",
    "    new =  re.sub(r\"[^\\x00-\\x7F]+\",\"\", new)\n",
    "    return set(new.split())\n",
    "\n",
    "tweets['cleantweets'] = tweets['text'].apply(lambda x : cleanify(x))\n",
    "\n",
    "for i in emotion.keys():\n",
    "    tweets[i] = tweets['cleantweets'].apply(lambda x : len(x.intersection(set(emotion[i])))/float(len(x)))\n",
    "\n",
    "# add column with the number of adjectives in it.\n",
    "from nltk.corpus import wordnet as wn\n",
    "adjectives = {x.name().split('.', 1)[0] for x in wn.all_synsets('a')}\n",
    "tweets.loc[:,'numAdjectives'] = tweets.cleantweets.apply(lambda x : len(x.intersection(adjectives)))"
   ]
  },
  {
   "cell_type": "raw",
   "metadata": {},
   "source": [
    "pd.crosstab(tweets.device, tweets.entities.apply(lambda x : len(x['media']) if 'media' in x.keys() else 0))"
   ]
  },
  {
   "cell_type": "code",
   "execution_count": 10,
   "metadata": {
    "collapsed": true
   },
   "outputs": [],
   "source": [
    "#from the previous work, get the top iphone words and the top android words.\n",
    "\n",
    "iphonetopwords = [u'#americafirst', u'join', u'#trump2016', u'tomorrow',\n",
    "       u'#makeamericagreatagain', u'#votetrump', u'#maga', u'&amp', u'support',\n",
    "       u'iowa', u'carolina', u'poll', u'see', u'tonight', u'america',\n",
    "       u'speech', u'campaign', u'enjoy']\n",
    "\n",
    "liph = float(len(iphonetopwords))\n",
    "\n",
    "androidtopwords =  [u'amazing', u'vote', u'watch', u'night', u'clinton', u'debate',\n",
    "       u'interviewed', u'love', u'been', u'people', u'donald', u'rubio',\n",
    "       u'obama', u'time', u'job', u'@foxnews', u'jobs', u'country', u'cruz',\n",
    "       u'hillary', u'trump', u'president', u'ted', u'win', u'bad', u'media',\n",
    "       u'wow', u'bernie', u'crooked', u'republican', u'@cnn',\n",
    "       u'@realdonaldtrump']\n",
    "\n",
    "landr = float(len(androidtopwords))"
   ]
  },
  {
   "cell_type": "code",
   "execution_count": 14,
   "metadata": {
    "collapsed": false
   },
   "outputs": [],
   "source": [
    "#Get the proportion of top iphone words and top android words for each tweet\n",
    "\n",
    "tweets['androidwords'] = tweets['cleantweets'].apply(lambda x : len(x.intersection(set(androidtopwords)))/landr)\n",
    "tweets['iphonewords'] = tweets['cleantweets'].apply(lambda x : len(x.intersection(set(iphonetopwords)))/ liph)\n",
    "\n",
    "#check if the tweet contains 'rt'\n",
    "tweets['rt'] = tweets.cleantweets.apply(lambda x : 1 if 'rt' in x else 0)\n",
    "tweets['quotes'] = tweets.text.apply(lambda x : 1 if '\"' in x else 0)"
   ]
  },
  {
   "cell_type": "code",
   "execution_count": 31,
   "metadata": {
    "collapsed": false
   },
   "outputs": [
    {
     "data": {
      "text/html": [
       "<div>\n",
       "<table border=\"1\" class=\"dataframe\">\n",
       "  <thead>\n",
       "    <tr style=\"text-align: right;\">\n",
       "      <th></th>\n",
       "      <th>favorite_count</th>\n",
       "      <th>retweet_count</th>\n",
       "      <th>hour</th>\n",
       "      <th>day</th>\n",
       "      <th>morning</th>\n",
       "      <th>evening</th>\n",
       "      <th>numHashtags</th>\n",
       "      <th>numMentions</th>\n",
       "      <th>numMedia</th>\n",
       "      <th>hasPlace</th>\n",
       "      <th>...</th>\n",
       "      <th>positive</th>\n",
       "      <th>anger</th>\n",
       "      <th>surprise</th>\n",
       "      <th>fear</th>\n",
       "      <th>trust</th>\n",
       "      <th>numAdjectives</th>\n",
       "      <th>androidwords</th>\n",
       "      <th>iphonewords</th>\n",
       "      <th>quotes</th>\n",
       "      <th>device</th>\n",
       "    </tr>\n",
       "  </thead>\n",
       "  <tbody>\n",
       "    <tr>\n",
       "      <th>0</th>\n",
       "      <td>8875</td>\n",
       "      <td>2603</td>\n",
       "      <td>8</td>\n",
       "      <td>2</td>\n",
       "      <td>1</td>\n",
       "      <td>0</td>\n",
       "      <td>0</td>\n",
       "      <td>0</td>\n",
       "      <td>0</td>\n",
       "      <td>1</td>\n",
       "      <td>...</td>\n",
       "      <td>0.260870</td>\n",
       "      <td>0.000000</td>\n",
       "      <td>0.043478</td>\n",
       "      <td>0</td>\n",
       "      <td>0.086957</td>\n",
       "      <td>5</td>\n",
       "      <td>0.09375</td>\n",
       "      <td>0.000000</td>\n",
       "      <td>0</td>\n",
       "      <td>android</td>\n",
       "    </tr>\n",
       "    <tr>\n",
       "      <th>1</th>\n",
       "      <td>3012</td>\n",
       "      <td>884</td>\n",
       "      <td>8</td>\n",
       "      <td>2</td>\n",
       "      <td>1</td>\n",
       "      <td>0</td>\n",
       "      <td>0</td>\n",
       "      <td>2</td>\n",
       "      <td>0</td>\n",
       "      <td>1</td>\n",
       "      <td>...</td>\n",
       "      <td>0.062500</td>\n",
       "      <td>0.062500</td>\n",
       "      <td>0.062500</td>\n",
       "      <td>0</td>\n",
       "      <td>0.062500</td>\n",
       "      <td>3</td>\n",
       "      <td>0.03125</td>\n",
       "      <td>0.000000</td>\n",
       "      <td>0</td>\n",
       "      <td>android</td>\n",
       "    </tr>\n",
       "    <tr>\n",
       "      <th>2</th>\n",
       "      <td>2358</td>\n",
       "      <td>808</td>\n",
       "      <td>8</td>\n",
       "      <td>2</td>\n",
       "      <td>1</td>\n",
       "      <td>0</td>\n",
       "      <td>0</td>\n",
       "      <td>1</td>\n",
       "      <td>0</td>\n",
       "      <td>1</td>\n",
       "      <td>...</td>\n",
       "      <td>0.000000</td>\n",
       "      <td>0.041667</td>\n",
       "      <td>0.000000</td>\n",
       "      <td>0</td>\n",
       "      <td>0.000000</td>\n",
       "      <td>4</td>\n",
       "      <td>0.03125</td>\n",
       "      <td>0.000000</td>\n",
       "      <td>0</td>\n",
       "      <td>android</td>\n",
       "    </tr>\n",
       "    <tr>\n",
       "      <th>3</th>\n",
       "      <td>5840</td>\n",
       "      <td>2053</td>\n",
       "      <td>8</td>\n",
       "      <td>2</td>\n",
       "      <td>1</td>\n",
       "      <td>0</td>\n",
       "      <td>0</td>\n",
       "      <td>0</td>\n",
       "      <td>0</td>\n",
       "      <td>1</td>\n",
       "      <td>...</td>\n",
       "      <td>0.076923</td>\n",
       "      <td>0.000000</td>\n",
       "      <td>0.076923</td>\n",
       "      <td>0</td>\n",
       "      <td>0.153846</td>\n",
       "      <td>3</td>\n",
       "      <td>0.03125</td>\n",
       "      <td>0.055556</td>\n",
       "      <td>0</td>\n",
       "      <td>android</td>\n",
       "    </tr>\n",
       "    <tr>\n",
       "      <th>4</th>\n",
       "      <td>3489</td>\n",
       "      <td>1129</td>\n",
       "      <td>9</td>\n",
       "      <td>2</td>\n",
       "      <td>1</td>\n",
       "      <td>0</td>\n",
       "      <td>0</td>\n",
       "      <td>1</td>\n",
       "      <td>0</td>\n",
       "      <td>1</td>\n",
       "      <td>...</td>\n",
       "      <td>0.066667</td>\n",
       "      <td>0.000000</td>\n",
       "      <td>0.000000</td>\n",
       "      <td>0</td>\n",
       "      <td>0.000000</td>\n",
       "      <td>3</td>\n",
       "      <td>0.06250</td>\n",
       "      <td>0.055556</td>\n",
       "      <td>0</td>\n",
       "      <td>android</td>\n",
       "    </tr>\n",
       "  </tbody>\n",
       "</table>\n",
       "<p>5 rows × 28 columns</p>\n",
       "</div>"
      ],
      "text/plain": [
       "   favorite_count  retweet_count  hour  day  morning  evening  numHashtags  \\\n",
       "0            8875           2603     8    2        1        0            0   \n",
       "1            3012            884     8    2        1        0            0   \n",
       "2            2358            808     8    2        1        0            0   \n",
       "3            5840           2053     8    2        1        0            0   \n",
       "4            3489           1129     9    2        1        0            0   \n",
       "\n",
       "   numMentions  numMedia  hasPlace   ...     positive     anger  surprise  \\\n",
       "0            0         0         1   ...     0.260870  0.000000  0.043478   \n",
       "1            2         0         1   ...     0.062500  0.062500  0.062500   \n",
       "2            1         0         1   ...     0.000000  0.041667  0.000000   \n",
       "3            0         0         1   ...     0.076923  0.000000  0.076923   \n",
       "4            1         0         1   ...     0.066667  0.000000  0.000000   \n",
       "\n",
       "   fear     trust  numAdjectives  androidwords  iphonewords  quotes   device  \n",
       "0     0  0.086957              5       0.09375     0.000000       0  android  \n",
       "1     0  0.062500              3       0.03125     0.000000       0  android  \n",
       "2     0  0.000000              4       0.03125     0.000000       0  android  \n",
       "3     0  0.153846              3       0.03125     0.055556       0  android  \n",
       "4     0  0.000000              3       0.06250     0.055556       0  android  \n",
       "\n",
       "[5 rows x 28 columns]"
      ]
     },
     "execution_count": 31,
     "metadata": {},
     "output_type": "execute_result"
    }
   ],
   "source": [
    "#Put together final list of columns to use in the model\n",
    "\n",
    "goodCols = [u'favorite_count', u'retweet_count']\n",
    "meany = goodCols + list(tweets.columns[33:].values) + ['device']\n",
    "\n",
    "extracols = ['cleantweets', 'month','year','rt']\n",
    "\n",
    "finalCols = [x for x in meany if x not in extracols]\n",
    "\n",
    "andIph = tweets[tweets['device'] != 'other'][finalCols]\n",
    "andIph.head()\n",
    "\n",
    "\n",
    "\n"
   ]
  },
  {
   "cell_type": "code",
   "execution_count": 37,
   "metadata": {
    "collapsed": false
   },
   "outputs": [],
   "source": [
    "#bad = list(features.index[:11].values) + [\"device\"]"
   ]
  },
  {
   "cell_type": "code",
   "execution_count": 32,
   "metadata": {
    "collapsed": false
   },
   "outputs": [
    {
     "name": "stdout",
     "output_type": "stream",
     "text": [
      "roc:  0.94307704877\n",
      "accuracy:  0.881021783818\n",
      "f1:  0.892110813813\n",
      "precision:  0.847061457727\n",
      "recall:  0.945571711831\n"
     ]
    },
    {
     "data": {
      "text/plain": [
       "<matplotlib.figure.Figure at 0x7fa1c49e2750>"
      ]
     },
     "metadata": {},
     "output_type": "display_data"
    },
    {
     "data": {
      "image/png": "[encoded data removed]",
      "text/plain": [
       "<matplotlib.figure.Figure at 0x7fa1c4a09750>"
      ]
     },
     "metadata": {},
     "output_type": "display_data"
    }
   ],
   "source": [
    "# run random forest model\n",
    "\n",
    "from sklearn.linear_model import LogisticRegression\n",
    "from sklearn.ensemble import  RandomForestClassifier\n",
    "from sklearn.model_selection import cross_val_score\n",
    "\n",
    "\n",
    "X = andIph[andIph.columns[:-1]]\n",
    "#X = andIph[[i for i in andIph.columns if i not in bad]]\n",
    "y = andIph['device'].apply(lambda x : 1 if x =='android' else 0)\n",
    "\n",
    "clf = RandomForestClassifier(n_estimators=50, random_state=10)\n",
    "\n",
    "print \"roc: \", cross_val_score(clf, X, y, cv = 5, scoring='roc_auc').mean()\n",
    "print \"accuracy: \", cross_val_score(clf, X, y, cv = 5).mean()\n",
    "print \"f1: \", cross_val_score(clf, X, y, cv = 5, scoring='f1').mean()\n",
    "print \"precision: \", cross_val_score(clf, X, y, cv = 5, scoring='precision').mean()\n",
    "print \"recall: \", cross_val_score(clf, X, y, cv = 5, scoring='recall').mean()\n",
    "\n",
    "clf = clf.fit(X, y)\n",
    "\n",
    "#get the feature importances\n",
    "features = zip(X.columns,clf.feature_importances_)\n",
    "features.sort(key = lambda x : x[1])\n",
    "features = pd.DataFrame(features).set_index(0)\n",
    "plt.figure()\n",
    "features.plot.barh(title='feature importances')\n",
    "plt.savefig(\"featureimportances.png\")\n",
    "\n",
    "\n"
   ]
  },
  {
   "cell_type": "code",
   "execution_count": 39,
   "metadata": {
    "collapsed": false
   },
   "outputs": [
    {
     "data": {
      "text/html": [
       "<div>\n",
       "<table border=\"1\" class=\"dataframe\">\n",
       "  <thead>\n",
       "    <tr style=\"text-align: right;\">\n",
       "      <th></th>\n",
       "      <th>text</th>\n",
       "      <th>probabilities</th>\n",
       "      <th>classes</th>\n",
       "      <th>trump or not</th>\n",
       "    </tr>\n",
       "  </thead>\n",
       "  <tbody>\n",
       "    <tr>\n",
       "      <th>20</th>\n",
       "      <td>#MakeAmericaGreatAgain I will be in Cedar Rapi...</td>\n",
       "      <td>0.06</td>\n",
       "      <td>0</td>\n",
       "      <td>not trump</td>\n",
       "    </tr>\n",
       "    <tr>\n",
       "      <th>26</th>\n",
       "      <td>.@CharlesHurt  Thanks for defending me so bril...</td>\n",
       "      <td>0.76</td>\n",
       "      <td>1</td>\n",
       "      <td>trump</td>\n",
       "    </tr>\n",
       "    <tr>\n",
       "      <th>27</th>\n",
       "      <td>.@MelindaDC  Don’t misrepresent in order to ma...</td>\n",
       "      <td>0.46</td>\n",
       "      <td>0</td>\n",
       "      <td>not trump</td>\n",
       "    </tr>\n",
       "    <tr>\n",
       "      <th>28</th>\n",
       "      <td>I have an idea for @JebBush whose campaign is ...</td>\n",
       "      <td>0.42</td>\n",
       "      <td>0</td>\n",
       "      <td>not trump</td>\n",
       "    </tr>\n",
       "    <tr>\n",
       "      <th>29</th>\n",
       "      <td>Weak &amp;amp; ineffective @JebBush is doing ads w...</td>\n",
       "      <td>0.46</td>\n",
       "      <td>0</td>\n",
       "      <td>not trump</td>\n",
       "    </tr>\n",
       "  </tbody>\n",
       "</table>\n",
       "</div>"
      ],
      "text/plain": [
       "                                                 text  probabilities  classes  \\\n",
       "20  #MakeAmericaGreatAgain I will be in Cedar Rapi...           0.06        0   \n",
       "26  .@CharlesHurt  Thanks for defending me so bril...           0.76        1   \n",
       "27  .@MelindaDC  Don’t misrepresent in order to ma...           0.46        0   \n",
       "28  I have an idea for @JebBush whose campaign is ...           0.42        0   \n",
       "29  Weak &amp; ineffective @JebBush is doing ads w...           0.46        0   \n",
       "\n",
       "   trump or not  \n",
       "20    not trump  \n",
       "26        trump  \n",
       "27    not trump  \n",
       "28    not trump  \n",
       "29    not trump  "
      ]
     },
     "execution_count": 39,
     "metadata": {},
     "output_type": "execute_result"
    }
   ],
   "source": [
    "# get the other tweets for classification\n",
    "othertweets = tweets[~tweets['device'].isin(['android','iphone'])][finalCols[:-1]]\n",
    "\n",
    "#make a dataframe of the the class probabilities and class assignments and the corresponding tweet text\n",
    "otherclasses = tweets[['text']].loc[othertweets.index]\n",
    "otherclasses['probabilities'] = clf.predict_proba(othertweets)[:,1]\n",
    "otherclasses['classes'] = clf.predict(othertweets)\n",
    "otherclasses['trump or not'] = otherclasses['classes'].apply(lambda x : \"trump\" if x == 1 else \"not trump\")\n",
    "otherclasses.to_csv('tweetclassification.csv',encoding='utf-8')\n",
    "\n",
    "otherclasses.head()"
   ]
  },
  {
   "cell_type": "code",
   "execution_count": 40,
   "metadata": {
    "collapsed": false
   },
   "outputs": [
    {
     "data": {
      "image/png": "[encoded data removed]",
      "text/plain": [
       "<matplotlib.figure.Figure at 0x7f3755683650>"
      ]
     },
     "metadata": {},
     "output_type": "display_data"
    }
   ],
   "source": [
    "# plot percent tweets for each device\n",
    "otherhours =  pd.concat([tweets.loc[otherclasses.index,'hour'],otherclasses['trump or not']],axis =1)\n",
    "grouped = otherhours.groupby(['trump or not', 'hour'])\n",
    "\n",
    "#get the number of tweets per device per , then get the percentages\n",
    "numtweets = grouped.size()\n",
    "#print numtweets.head()\n",
    "\n",
    "percentTimes = numtweets.groupby(level=[0]).apply(lambda x : 100* x / x.sum()).reset_index()\n",
    "\n",
    "fig, ax = plt.subplots(figsize=(10,8))\n",
    "\n",
    "for device, frame in percentTimes.groupby('trump or not'):\n",
    "    frame.plot.line(x = 'hour', y = 0, ax = ax,label=device, title =\"time distribution of tweets\")\n",
    "\n",
    "ax.set_ylabel('% of tweets')\n",
    "plt.savefig(\"othertweettimes.png\")"
   ]
  },
  {
   "cell_type": "markdown",
   "metadata": {},
   "source": [
    "# Below are just some cells of me playing around with different models."
   ]
  },
  {
   "cell_type": "code",
   "execution_count": 28,
   "metadata": {
    "collapsed": false
   },
   "outputs": [
    {
     "name": "stdout",
     "output_type": "stream",
     "text": [
      "roc:  0.901720162909\n",
      "accuracy:  0.820385418658\n",
      "f1:  0.836774895932\n",
      "precision:  0.794617052816\n",
      "recall:  0.884500991408\n"
     ]
    }
   ],
   "source": [
    "# try logistic regression model\n",
    "\n",
    "from sklearn.linear_model import LogisticRegression\n",
    "\n",
    "clf = LogisticRegression()\n",
    "\n",
    "print \"roc: \", cross_val_score(clf, X, y, cv = 5, scoring='roc_auc').mean()\n",
    "print \"accuracy: \", cross_val_score(clf, X, y, cv = 5).mean()\n",
    "print \"f1: \", cross_val_score(clf, X, y, cv = 5, scoring='f1').mean()\n",
    "print \"precision: \", cross_val_score(clf, X, y, cv = 5, scoring='precision').mean()\n",
    "print \"recall: \", cross_val_score(clf, X, y, cv = 5, scoring='recall').mean()"
   ]
  },
  {
   "cell_type": "code",
   "execution_count": 21,
   "metadata": {
    "collapsed": false
   },
   "outputs": [
    {
     "name": "stdout",
     "output_type": "stream",
     "text": [
      "roc:  0.950192557728\n",
      "accuracy:  0.875776942266\n",
      "f1:  0.887020732086\n",
      "precision:  0.845809518525\n",
      "recall:  0.936046328644\n"
     ]
    }
   ],
   "source": [
    "# run gradient boosted model\n",
    "\n",
    "from sklearn import ensemble\n",
    "\n",
    "#X = andIph[andIph.columns[:-1]]\n",
    "#y = andIph['device'].apply(lambda x : 1 if x =='android' else 0)\n",
    "\n",
    "params = {'n_estimators': 1200, 'max_depth': 3, 'subsample': 0.5,\n",
    "          'learning_rate': 0.01, 'min_samples_leaf': 1, 'random_state': 3}\n",
    "clf = ensemble.GradientBoostingClassifier(**params)\n",
    "\n",
    "print \"roc: \", cross_val_score(clf, X, y, cv = 5, scoring='roc_auc').mean()\n",
    "print \"accuracy: \", cross_val_score(clf, X, y, cv = 5).mean()\n",
    "print \"f1: \", cross_val_score(clf, X, y, cv = 5, scoring='f1').mean()\n",
    "print \"precision: \", cross_val_score(clf, X, y, cv = 5, scoring='precision').mean()\n",
    "print \"recall: \", cross_val_score(clf, X, y, cv = 5, scoring='recall').mean()"
   ]
  },
  {
   "cell_type": "code",
   "execution_count": null,
   "metadata": {
    "collapsed": false
   },
   "outputs": [],
   "source": [
    "# try some feature selection\n",
    "\n",
    "from sklearn.feature_selection import SelectKBest\n",
    "from sklearn.pipeline import Pipeline\n",
    "from sklearn.feature_selection import f_regression\n",
    "from sklearn.feature_selection import f_classif\n",
    "from sklearn.feature_selection import mutual_info_classif\n",
    "from sklearn.feature_selection import chi2\n",
    "\n",
    "\n",
    "feature_filter = SelectKBest(f_classif, k=15)\n",
    "clf = RandomForestClassifier(n_estimators=50)\n",
    "anova_svm = Pipeline([('filter', feature_filter), ('rf', clf)])\n",
    "\n",
    "print \"roc: \", cross_val_score(anova_svm, X, y, cv = 5, scoring='roc_auc').mean()\n",
    "print \"accuracy: \", cross_val_score(anova_svm, X, y, cv = 5).mean()\n",
    "print \"f1: \", cross_val_score(anova_svm, X, y, cv = 5, scoring='f1').mean()\n",
    "print \"precision: \", cross_val_score(anova_svm, X, y, cv = 5, scoring='precision').mean()\n",
    "print \"recall: \", cross_val_score(anova_svm, X, y, cv = 5, scoring='recall').mean()\n"
   ]
  },
  {
   "cell_type": "markdown",
   "metadata": {},
   "source": [
    "# Experimenting with a sample confusion matrix and roc curve for an idea on how the model is doing"
   ]
  },
  {
   "cell_type": "code",
   "execution_count": null,
   "metadata": {
    "collapsed": false
   },
   "outputs": [],
   "source": [
    "from sklearn.metrics import confusion_matrix\n",
    "from sklearn.model_selection import train_test_split\n",
    "\n",
    "X_train, X_test, y_train, y_test = train_test_split(X, y, random_state=0)\n",
    "clf = clf.fit(X_train, y_train)\n",
    "\n",
    "print confusion_matrix(y_test, clf.predict(X_test))\n",
    "\n",
    "y_pred = clf.predict_proba(X_test)[:, 1]\n",
    "fpr, tpr, _ = roc_curve(y_test, y_pred)\n",
    "\n",
    "plt.style.use('ggplot')\n",
    "plt.figure(1)\n",
    "plt.plot([0, 1], [0, 1], 'k--')\n",
    "plt.plot(fpr, tpr)\n",
    "plt.ylabel('True positive rate')\n",
    "plt.xlabel('False positive rate')\n",
    "plt.title('ROC curve')\n",
    "plt.show()"
   ]
  }
 ],
 "metadata": {
  "kernelspec": {
   "display_name": "Python 2",
   "language": "python",
   "name": "python2"
  },
  "language_info": {
   "codemirror_mode": {
    "name": "ipython",
    "version": 2
   },
   "file_extension": ".py",
   "mimetype": "text/x-python",
   "name": "python",
   "nbconvert_exporter": "python",
   "pygments_lexer": "ipython2",
   "version": "2.7.6"
  }
 },
 "nbformat": 4,
 "nbformat_minor": 0
}
