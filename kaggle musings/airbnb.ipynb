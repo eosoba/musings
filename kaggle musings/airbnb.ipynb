{
 "cells": [
  {
   "cell_type": "raw",
   "metadata": {},
   "source": [
    "# Some work on Airbnb dataset to predict hotel occupancy rates."
   ]
  },
  {
   "cell_type": "code",
   "execution_count": 329,
   "metadata": {
    "collapsed": false
   },
   "outputs": [
    {
     "name": "stdout",
     "output_type": "stream",
     "text": [
      "Once deleted, variables cannot be recovered. Proceed (y/[n])? y\n"
     ]
    }
   ],
   "source": [
    "%reset"
   ]
  },
  {
   "cell_type": "code",
   "execution_count": 1,
   "metadata": {
    "collapsed": true
   },
   "outputs": [],
   "source": [
    "import pandas as pd\n",
    "import numpy as np\n",
    "from sklearn.preprocessing import scale\n",
    "from sklearn.cross_validation import cross_val_score\n",
    "from sklearn import tree\n",
    "from sklearn.linear_model import LogisticRegression\n",
    "from sklearn.naive_bayes import GaussianNB\n",
    "from sklearn.svm import LinearSVC\n",
    "from sklearn.ensemble import RandomForestClassifier\n",
    "from sklearn.ensemble import ExtraTreesClassifier\n",
    "from sklearn.ensemble import AdaBoostClassifier\n",
    "from sklearn.ensemble import GradientBoostingClassifier"
   ]
  },
  {
   "cell_type": "code",
   "execution_count": 304,
   "metadata": {
    "collapsed": true
   },
   "outputs": [],
   "source": [
    "#=train[train.isnull().any(axis=1)]\n",
    "\n",
    "#Look at missing data by column.\n",
    "def checkmissing(x):\n",
    "    for a in x.columns:\n",
    "        print x[a].isnull().value_counts()\n",
    "        print \"*****************************\""
   ]
  },
  {
   "cell_type": "code",
   "execution_count": 16,
   "metadata": {
    "collapsed": false
   },
   "outputs": [
    {
     "name": "stdout",
     "output_type": "stream",
     "text": [
      "Index([u'id', u'date_account_created', u'timestamp_first_active',\n",
      "       u'date_first_booking', u'gender', u'age', u'signup_method',\n",
      "       u'signup_flow', u'language', u'affiliate_channel',\n",
      "       u'affiliate_provider', u'first_affiliate_tracked', u'signup_app',\n",
      "       u'first_device_type', u'first_browser', u'country_destination'],\n",
      "      dtype='object')\n"
     ]
    },
    {
     "data": {
      "text/html": [
       "<div>\n",
       "<table border=\"1\" class=\"dataframe\">\n",
       "  <thead>\n",
       "    <tr style=\"text-align: right;\">\n",
       "      <th></th>\n",
       "      <th>id</th>\n",
       "      <th>date_account_created</th>\n",
       "      <th>timestamp_first_active</th>\n",
       "      <th>date_first_booking</th>\n",
       "      <th>gender</th>\n",
       "      <th>age</th>\n",
       "      <th>signup_method</th>\n",
       "      <th>signup_flow</th>\n",
       "      <th>language</th>\n",
       "      <th>affiliate_channel</th>\n",
       "      <th>affiliate_provider</th>\n",
       "      <th>first_affiliate_tracked</th>\n",
       "      <th>signup_app</th>\n",
       "      <th>first_device_type</th>\n",
       "      <th>first_browser</th>\n",
       "      <th>country_destination</th>\n",
       "    </tr>\n",
       "  </thead>\n",
       "  <tbody>\n",
       "    <tr>\n",
       "      <th>0</th>\n",
       "      <td>gxn3p5htnn</td>\n",
       "      <td>2010-06-28</td>\n",
       "      <td>20090319043255</td>\n",
       "      <td>NaN</td>\n",
       "      <td>-unknown-</td>\n",
       "      <td>NaN</td>\n",
       "      <td>facebook</td>\n",
       "      <td>0</td>\n",
       "      <td>en</td>\n",
       "      <td>direct</td>\n",
       "      <td>direct</td>\n",
       "      <td>untracked</td>\n",
       "      <td>Web</td>\n",
       "      <td>Mac Desktop</td>\n",
       "      <td>Chrome</td>\n",
       "      <td>NDF</td>\n",
       "    </tr>\n",
       "    <tr>\n",
       "      <th>1</th>\n",
       "      <td>820tgsjxq7</td>\n",
       "      <td>2011-05-25</td>\n",
       "      <td>20090523174809</td>\n",
       "      <td>NaN</td>\n",
       "      <td>MALE</td>\n",
       "      <td>38</td>\n",
       "      <td>facebook</td>\n",
       "      <td>0</td>\n",
       "      <td>en</td>\n",
       "      <td>seo</td>\n",
       "      <td>google</td>\n",
       "      <td>untracked</td>\n",
       "      <td>Web</td>\n",
       "      <td>Mac Desktop</td>\n",
       "      <td>Chrome</td>\n",
       "      <td>NDF</td>\n",
       "    </tr>\n",
       "    <tr>\n",
       "      <th>2</th>\n",
       "      <td>4ft3gnwmtx</td>\n",
       "      <td>2010-09-28</td>\n",
       "      <td>20090609231247</td>\n",
       "      <td>2010-08-02</td>\n",
       "      <td>FEMALE</td>\n",
       "      <td>56</td>\n",
       "      <td>basic</td>\n",
       "      <td>3</td>\n",
       "      <td>en</td>\n",
       "      <td>direct</td>\n",
       "      <td>direct</td>\n",
       "      <td>untracked</td>\n",
       "      <td>Web</td>\n",
       "      <td>Windows Desktop</td>\n",
       "      <td>IE</td>\n",
       "      <td>US</td>\n",
       "    </tr>\n",
       "    <tr>\n",
       "      <th>3</th>\n",
       "      <td>bjjt8pjhuk</td>\n",
       "      <td>2011-12-05</td>\n",
       "      <td>20091031060129</td>\n",
       "      <td>2012-09-08</td>\n",
       "      <td>FEMALE</td>\n",
       "      <td>42</td>\n",
       "      <td>facebook</td>\n",
       "      <td>0</td>\n",
       "      <td>en</td>\n",
       "      <td>direct</td>\n",
       "      <td>direct</td>\n",
       "      <td>untracked</td>\n",
       "      <td>Web</td>\n",
       "      <td>Mac Desktop</td>\n",
       "      <td>Firefox</td>\n",
       "      <td>other</td>\n",
       "    </tr>\n",
       "    <tr>\n",
       "      <th>4</th>\n",
       "      <td>87mebub9p4</td>\n",
       "      <td>2010-09-14</td>\n",
       "      <td>20091208061105</td>\n",
       "      <td>2010-02-18</td>\n",
       "      <td>-unknown-</td>\n",
       "      <td>41</td>\n",
       "      <td>basic</td>\n",
       "      <td>0</td>\n",
       "      <td>en</td>\n",
       "      <td>direct</td>\n",
       "      <td>direct</td>\n",
       "      <td>untracked</td>\n",
       "      <td>Web</td>\n",
       "      <td>Mac Desktop</td>\n",
       "      <td>Chrome</td>\n",
       "      <td>US</td>\n",
       "    </tr>\n",
       "  </tbody>\n",
       "</table>\n",
       "</div>"
      ],
      "text/plain": [
       "           id date_account_created  timestamp_first_active date_first_booking  \\\n",
       "0  gxn3p5htnn           2010-06-28          20090319043255                NaN   \n",
       "1  820tgsjxq7           2011-05-25          20090523174809                NaN   \n",
       "2  4ft3gnwmtx           2010-09-28          20090609231247         2010-08-02   \n",
       "3  bjjt8pjhuk           2011-12-05          20091031060129         2012-09-08   \n",
       "4  87mebub9p4           2010-09-14          20091208061105         2010-02-18   \n",
       "\n",
       "      gender  age signup_method  signup_flow language affiliate_channel  \\\n",
       "0  -unknown-  NaN      facebook            0       en            direct   \n",
       "1       MALE   38      facebook            0       en               seo   \n",
       "2     FEMALE   56         basic            3       en            direct   \n",
       "3     FEMALE   42      facebook            0       en            direct   \n",
       "4  -unknown-   41         basic            0       en            direct   \n",
       "\n",
       "  affiliate_provider first_affiliate_tracked signup_app first_device_type  \\\n",
       "0             direct               untracked        Web       Mac Desktop   \n",
       "1             google               untracked        Web       Mac Desktop   \n",
       "2             direct               untracked        Web   Windows Desktop   \n",
       "3             direct               untracked        Web       Mac Desktop   \n",
       "4             direct               untracked        Web       Mac Desktop   \n",
       "\n",
       "  first_browser country_destination  \n",
       "0        Chrome                 NDF  \n",
       "1        Chrome                 NDF  \n",
       "2            IE                  US  \n",
       "3       Firefox               other  \n",
       "4        Chrome                  US  "
      ]
     },
     "execution_count": 16,
     "metadata": {},
     "output_type": "execute_result"
    }
   ],
   "source": [
    "train = pd.read_csv('train_users_2.csv')\n",
    "print train.columns\n",
    "train.head()"
   ]
  },
  {
   "cell_type": "code",
   "execution_count": 10,
   "metadata": {
    "collapsed": false
   },
   "outputs": [
    {
     "name": "stdout",
     "output_type": "stream",
     "text": [
      "Populating the interactive namespace from numpy and matplotlib\n"
     ]
    }
   ],
   "source": [
    "%pylab inline"
   ]
  },
  {
   "cell_type": "code",
   "execution_count": 11,
   "metadata": {
    "collapsed": false
   },
   "outputs": [
    {
     "data": {
      "text/plain": [
       "<matplotlib.axes._subplots.AxesSubplot at 0x7f3d421f6d90>"
      ]
     },
     "execution_count": 11,
     "metadata": {},
     "output_type": "execute_result"
    },
    {
     "data": {
      "image/png": "[encoded data removed]",
      "text/plain": [
       "<matplotlib.figure.Figure at 0x7f3d421f6510>"
      ]
     },
     "metadata": {},
     "output_type": "display_data"
    }
   ],
   "source": [
    "# train['signup_method'].value_counts().plot(kind='bar')\n",
    "\n",
    "#train['gender'].value_counts().plot(kind='bar')\n",
    "\n",
    "#train['language'].value_counts().plot(kind='bar')\n",
    "\n",
    "#train['first_device_type'].value_counts().plot(kind='bar')\n",
    "\n",
    "#train['first_browser'].value_counts().plot(kind='bar')\n",
    "train['country_destination'].value_counts().plot(kind='bar')"
   ]
  },
  {
   "cell_type": "code",
   "execution_count": null,
   "metadata": {
    "collapsed": true
   },
   "outputs": [],
   "source": [
    "#Feature Engineering:\n",
    "#get the month, day from the date columns.\n",
    "#get time lapses."
   ]
  },
  {
   "cell_type": "code",
   "execution_count": 17,
   "metadata": {
    "collapsed": true
   },
   "outputs": [],
   "source": [
    "countrytrain = train['country_destination']\n",
    "train.drop('country_destination',axis=1,inplace=True)\n",
    "#roll up the countries other than NDF and US, into other.\n",
    "mod_country=countrytrain.apply(lambda x : 'special' if (x!='US'and 'NDF') else x)"
   ]
  },
  {
   "cell_type": "code",
   "execution_count": 6,
   "metadata": {
    "collapsed": false
   },
   "outputs": [],
   "source": [
    "def prepro(tbl):\n",
    "    \n",
    "    print \"Turn the na's to dummy code column ********************************\"\n",
    "    tbl['null_booking']= tbl['date_first_booking'].isnull()\n",
    "    \n",
    "#Timestamps get the same time as date_account created if they are NA\n",
    "    new_date_first_booking=tbl.apply(lambda x :x['date_account_created'] if x['null_booking'] else x['date_first_booking'],axis=1)\n",
    "    \n",
    "# age columns changed into age ranges.  \n",
    "    age_range=pd.cut(tbl['age'],[0,4,9,14,19,24,29,34,39,44,49,54,59,64,69,74,79,84,89,94,99,5000], include_lowest=True)\n",
    "    tbl.drop(['date_first_booking','age'],axis=1,inplace=True)\n",
    "    \n",
    "    \n",
    "    \n",
    "\n",
    "#get month,day,quarter from time columns\n",
    "    print \"get month,day,quarter from the time columns ********************************\"\n",
    "\n",
    "    tbl['date_account_created_month']=pd.to_datetime(tbl['date_account_created']).dt.month\n",
    "    tbl['date_account_created_day']=pd.to_datetime(tbl['date_account_created']).dt.dayofweek\n",
    "    tbl['date_account_created_quarter']=pd.to_datetime(tbl['date_account_created']).dt.quarter\n",
    "\n",
    "    tbl['date_first_booking_month']=pd.to_datetime(new_date_first_booking).dt.month\n",
    "    tbl['date_first_booking_day']=pd.to_datetime(new_date_first_booking).dt.dayofweek\n",
    "    tbl['date_first_booking_quarter']=pd.to_datetime(new_date_first_booking).dt.quarter\n",
    "\n",
    "\n",
    "# Get time lapses\n",
    "    print \"get time lapses of columns ********************************\"\n",
    "    tfa=pd.to_datetime(train['timestamp_first_active'],format='%Y%m%d%H%M%S')\n",
    "    tbl['timestamp_day'] =tfa.dt.dayofweek\n",
    "    tbl['timestamp_month'] =tfa.dt.month\n",
    "    tbl['timestamp_quarter'] =tfa.dt.quarter\n",
    "\n",
    "    dac=pd.to_timedelta(pd.to_datetime(train['date_account_created']))\n",
    "    dfb=pd.to_timedelta(pd.to_datetime(new_date_first_booking))\n",
    "    tfa=pd.to_timedelta(tfa)\n",
    "\n",
    "    tbl['time_created_booking']=(dac-dfb).astype('timedelta64[s]')\n",
    "    tbl['time_active_booking']=(tfa-dfb).astype('timedelta64[s]')\n",
    "    tbl['time_booking_created']=(dac-tfa).astype('timedelta64[s]')\n",
    "\n",
    "\n",
    "# dummy code the categorical variables\n",
    "    print \"Dummy code categorical variables ********************************\"\n",
    "    tbl_mod=pd.get_dummies(tbl['gender'],prefix='gender')\n",
    "    for a in tbl.columns[4:-3]:\n",
    "        tbl_mod=tbl_mod.join(pd.get_dummies(train[a],prefix=a))\n",
    "\n",
    "    tbl_mod=tbl_mod.join(pd.get_dummies(age_range,prefix='age_range',dummy_na=True))\n",
    "\n",
    "# Scale the last three columns\n",
    "    print \"center scale the time columns ********************************\"\n",
    "    tbl_mod[tbl.columns[-3]]=scale(tbl[tbl.columns[-3]])\n",
    "    tbl_mod[tbl.columns[-2]]=scale(tbl[tbl.columns[-2]])\n",
    "    tbl_mod[tbl.columns[-1]]=scale(tbl[tbl.columns[-1]])\n",
    "    return tbl_mod"
   ]
  },
  {
   "cell_type": "code",
   "execution_count": 18,
   "metadata": {
    "collapsed": false
   },
   "outputs": [
    {
     "name": "stdout",
     "output_type": "stream",
     "text": [
      "Turn the na's to dummy code column ********************************\n",
      "get month,day,quarter from the time columns ********************************\n",
      "get time lapses of columns ********************************\n",
      "Dummy code categorical variables ********************************\n",
      "center scale the time columns ********************************\n"
     ]
    }
   ],
   "source": [
    "train_mod=prepro(train)"
   ]
  },
  {
   "cell_type": "code",
   "execution_count": 21,
   "metadata": {
    "collapsed": false,
    "scrolled": true
   },
   "outputs": [
    {
     "name": "stdout",
     "output_type": "stream",
     "text": [
      "ExtraTreesClassifier(bootstrap=False, class_weight='balanced',\n",
      "           criterion='entropy', max_depth=None, max_features='auto',\n",
      "           max_leaf_nodes=None, min_samples_leaf=1, min_samples_split=2,\n",
      "           min_weight_fraction_leaf=0.0, n_estimators=10, n_jobs=1,\n",
      "           oob_score=False, random_state=None, verbose=0, warm_start=False)\n",
      "0.856112066299\n",
      "********************************\n",
      "RandomForestClassifier(bootstrap=True, class_weight='balanced',\n",
      "            criterion='entropy', max_depth=None, max_features='auto',\n",
      "            max_leaf_nodes=None, min_samples_leaf=1, min_samples_split=2,\n",
      "            min_weight_fraction_leaf=0.0, n_estimators=10, n_jobs=1,\n",
      "            oob_score=False, random_state=None, verbose=0,\n",
      "            warm_start=False)\n",
      "0.865781776221\n",
      "********************************\n",
      "LogisticRegression(C=1.0, class_weight='balanced', dual=False,\n",
      "          fit_intercept=True, intercept_scaling=1, max_iter=100,\n",
      "          multi_class='ovr', n_jobs=1, penalty='l2', random_state=None,\n",
      "          solver='liblinear', tol=0.0001, verbose=0, warm_start=False)\n",
      "0.816107258535\n",
      "********************************\n",
      "GaussianNB()\n",
      "0.585637907985\n",
      "********************************\n",
      "LinearSVC(C=1.0, class_weight=None, dual=True, fit_intercept=True,\n",
      "     intercept_scaling=1, loss='squared_hinge', max_iter=1000,\n",
      "     multi_class='ovr', penalty='l2', random_state=None, tol=0.0001,\n",
      "     verbose=0)\n",
      "0.875521787275\n",
      "********************************\n"
     ]
    }
   ],
   "source": [
    "#train classifiers on the training data without sessions statistics\n",
    "\n",
    "y = countrytrain\n",
    "#gbc = GradientBoostingClassifier()\n",
    "#abc = AdaBoostClassifier()\n",
    "etc = ExtraTreesClassifier(n_estimators=10,criterion='entropy',class_weight='balanced')\n",
    "gnb = GaussianNB()\n",
    "svc = LinearSVC()\n",
    "rfc = RandomForestClassifier(n_estimators=10,criterion='entropy',class_weight='balanced')\n",
    "lr = LogisticRegression(class_weight='balanced')\n",
    "\n",
    "bag =[etc,rfc,lr,gnb,svc]\n",
    "for a in bag:\n",
    "    print a\n",
    "    print cross_val_score(a,train_mod,y).mean()\n",
    "    #print cross_val_score(a,train_mod,y,scoring ='average_precision').mean()\n",
    "    #print cross_val_score(a,train_mod,y,scoring='roc_auc').mean()\n",
    "    a.fit(train_mod,y)\n",
    "    print \"********************************\"\n",
    "    "
   ]
  },
  {
   "cell_type": "markdown",
   "metadata": {},
   "source": [
    "For a first pass, the cross validations scores on the classifiers look good. Naive Bayes is a\n",
    "bit nutty. I suspect if we narrow down the features, it will behave better. Here are some ideas for more complicated models."
   ]
  },
  {
   "cell_type": "raw",
   "metadata": {
    "collapsed": false
   },
   "source": [
    "#I also tried to used the soft voting classifier to combine the learners together\n",
    "\n",
    "from sklearn.ensemble import VotingClassifier\n",
    "eclf = VotingClassifier(estimators=[('gbc', gbc), ('abc', abc), ('etc', etc),('rfc', rfc),('lr',lr),('gnb',gnb),('svc',svc)], voting='soft')\n",
    "\n",
    "cross_val_score(eclf, train_mod,y).mean()"
   ]
  },
  {
   "cell_type": "raw",
   "metadata": {
    "collapsed": false
   },
   "source": [
    "#Make predictions for all classifier and turn them into a big matrix\n",
    "num_y = np.vstack((list(bag[0].predict(train_mod)),list(bag[1].predict(train_mod))))\n",
    "\n",
    "for a in bag[2:]:\n",
    "    num_y=np.vstack((num_y,list(a.predict(train_mod))))\n",
    "\n",
    "# turn the table of values into a dataframe\n",
    "yuck=pd.DataFrame(num_y.T)\n",
    "yuck.columns=[str(a).split('(')[0] for a in bag]\n",
    "\n",
    "#dummy code the values\n",
    "for a in yuck.columns:\n",
    "    yuck[a]=yuck[a].apply(lambda x: 1 if x=='special' else 0)\n",
    "\n",
    "#Try a gradient boosted machine classifier to combine the all the different learners together.\n",
    "master=GradientBoostingClassifier()\n",
    "cross_val_score(master,yuck,y).mean()"
   ]
  },
  {
   "cell_type": "markdown",
   "metadata": {},
   "source": [
    "# Some users have sessions data. Get the statistics of each user in the session, merge the sessions statistics with the training data."
   ]
  },
  {
   "cell_type": "code",
   "execution_count": 22,
   "metadata": {
    "collapsed": false
   },
   "outputs": [
    {
     "name": "stdout",
     "output_type": "stream",
     "text": [
      "(10567737, 6)\n"
     ]
    },
    {
     "data": {
      "text/html": [
       "<div>\n",
       "<table border=\"1\" class=\"dataframe\">\n",
       "  <thead>\n",
       "    <tr style=\"text-align: right;\">\n",
       "      <th></th>\n",
       "      <th>user_id</th>\n",
       "      <th>action</th>\n",
       "      <th>action_type</th>\n",
       "      <th>action_detail</th>\n",
       "      <th>device_type</th>\n",
       "      <th>secs_elapsed</th>\n",
       "    </tr>\n",
       "  </thead>\n",
       "  <tbody>\n",
       "    <tr>\n",
       "      <th>0</th>\n",
       "      <td>d1mm9tcy42</td>\n",
       "      <td>lookup</td>\n",
       "      <td>NaN</td>\n",
       "      <td>NaN</td>\n",
       "      <td>Windows Desktop</td>\n",
       "      <td>319</td>\n",
       "    </tr>\n",
       "    <tr>\n",
       "      <th>1</th>\n",
       "      <td>d1mm9tcy42</td>\n",
       "      <td>search_results</td>\n",
       "      <td>click</td>\n",
       "      <td>view_search_results</td>\n",
       "      <td>Windows Desktop</td>\n",
       "      <td>67753</td>\n",
       "    </tr>\n",
       "    <tr>\n",
       "      <th>2</th>\n",
       "      <td>d1mm9tcy42</td>\n",
       "      <td>lookup</td>\n",
       "      <td>NaN</td>\n",
       "      <td>NaN</td>\n",
       "      <td>Windows Desktop</td>\n",
       "      <td>301</td>\n",
       "    </tr>\n",
       "    <tr>\n",
       "      <th>3</th>\n",
       "      <td>d1mm9tcy42</td>\n",
       "      <td>search_results</td>\n",
       "      <td>click</td>\n",
       "      <td>view_search_results</td>\n",
       "      <td>Windows Desktop</td>\n",
       "      <td>22141</td>\n",
       "    </tr>\n",
       "    <tr>\n",
       "      <th>4</th>\n",
       "      <td>d1mm9tcy42</td>\n",
       "      <td>lookup</td>\n",
       "      <td>NaN</td>\n",
       "      <td>NaN</td>\n",
       "      <td>Windows Desktop</td>\n",
       "      <td>435</td>\n",
       "    </tr>\n",
       "  </tbody>\n",
       "</table>\n",
       "</div>"
      ],
      "text/plain": [
       "      user_id          action action_type        action_detail  \\\n",
       "0  d1mm9tcy42          lookup         NaN                  NaN   \n",
       "1  d1mm9tcy42  search_results       click  view_search_results   \n",
       "2  d1mm9tcy42          lookup         NaN                  NaN   \n",
       "3  d1mm9tcy42  search_results       click  view_search_results   \n",
       "4  d1mm9tcy42          lookup         NaN                  NaN   \n",
       "\n",
       "       device_type  secs_elapsed  \n",
       "0  Windows Desktop           319  \n",
       "1  Windows Desktop         67753  \n",
       "2  Windows Desktop           301  \n",
       "3  Windows Desktop         22141  \n",
       "4  Windows Desktop           435  "
      ]
     },
     "execution_count": 22,
     "metadata": {},
     "output_type": "execute_result"
    }
   ],
   "source": [
    "sessions = pd.read_csv('sessions.csv')\n",
    "print sessions.shape\n",
    "sessions.head()"
   ]
  },
  {
   "cell_type": "raw",
   "metadata": {},
   "source": [
    "grouped=sessions.groupby(['user_id'])\n",
    "mega=grouped['secs_elapsed'].describe().unstack(1)\n",
    "mega.to_csv('sessions_counts')\n",
    "sessions=pd.read_csv('sessions_counts')\n",
    "\n",
    "#merge sessions data with training data\n",
    "users=pd.DataFrame(train['id'])\n",
    "mast=pd.merge(users,sessions,how='left',left_on='id',right_on='user_id')\n",
    "\n",
    "baddf=mast['id']\n",
    "for a in mast.columns[2:]:\n",
    "    if not a.endswith('top'):\n",
    "        baddf=pd.concat([baddf,mast[a].isnull()],axis=1)\n",
    "baddf.columns = ['isnull_'+str(a) for a in baddf.columns]\n",
    "\n",
    "#replace missing data in sessions log with 0's\n",
    "mast=pd.merge(users,sessions,how='left',left_on='id',right_on='user_id')\n",
    "for a in mast.columns[2:]:\n",
    "    if not a.endswith('top'):\n",
    "        mast[a].fillna(0,inplace=True)\n",
    "        mast[a] = scale(mast[a])\n",
    "    else:\n",
    "        mast= mast.join(pd.get_dummies(mast[a],prefix=a,dummy_na=True))\n",
    "        mast.drop(a,axis=1,inplace=True)"
   ]
  },
  {
   "cell_type": "raw",
   "metadata": {
    "collapsed": false
   },
   "source": [
    "# add sessions data to training data\n",
    "train_mod=train_mod.join(mast[mast.columns[2:]])\n",
    "train_mod.to_csv('preprotrain.csv')"
   ]
  }
 ],
 "metadata": {
  "kernelspec": {
   "display_name": "Python 2",
   "language": "python",
   "name": "python2"
  },
  "language_info": {
   "codemirror_mode": {
    "name": "ipython",
    "version": 2
   },
   "file_extension": ".py",
   "mimetype": "text/x-python",
   "name": "python",
   "nbconvert_exporter": "python",
   "pygments_lexer": "ipython2",
   "version": "2.7.6"
  }
 },
 "nbformat": 4,
 "nbformat_minor": 0
}
