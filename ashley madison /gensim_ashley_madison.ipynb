{
 "cells": [
  {
   "cell_type": "markdown",
   "metadata": {},
   "source": [
    "# Topic modelling on the ashley madison profiles."
   ]
  },
  {
   "cell_type": "code",
   "execution_count": 25,
   "metadata": {
    "collapsed": false
   },
   "outputs": [],
   "source": [
    "import pandas as pd\n",
    "import numpy as np\n",
    "import logging, gensim\n",
    "import Image\n",
    "import os,sys\n",
    "import matplotlib.pyplot as plt\n",
    "import string\n",
    "from nltk.corpus import stopwords"
   ]
  },
  {
   "cell_type": "markdown",
   "metadata": {},
   "source": [
    "## I have collected the ashley madison profiles by city, and here's a look at the sample data"
   ]
  },
  {
   "cell_type": "code",
   "execution_count": 128,
   "metadata": {
    "collapsed": false
   },
   "outputs": [
    {
     "data": {
      "text/plain": [
       "Index([u'id', u'createdon', u'createdby', u'updatedon', u'updatedby', u'admin',\n",
       "       u'status', u'account_type', u'membership_status', u'ad_source',\n",
       "       u'profile_number', u'nickname', u'first_name', u'last_name', u'street1',\n",
       "       u'street2', u'city', u'zip', u'state', u'latitude', u'longitude',\n",
       "       u'country', u'phone', u'work_phone', u'mobile_phone', u'gender', u'dob',\n",
       "       u'profile_caption', u'profile_ethnicity', u'profile_weight',\n",
       "       u'profile_height', u'profile_bodytype', u'profile_smoke',\n",
       "       u'profile_drink', u'profile_initially_seeking', u'profile_relationship',\n",
       "       u'pref_opento', u'pref_opento_other', u'pref_opento_abstract',\n",
       "       u'pref_turnsmeon', u'pref_turnsmeon_other', u'pref_turnsmeon_abstract',\n",
       "       u'pref_lookingfor', u'pref_lookingfor_other',\n",
       "       u'pref_lookingfor_abstract', u'main_photo', u'security_question',\n",
       "       u'security_answer'],\n",
       "      dtype='object')"
      ]
     },
     "execution_count": 128,
     "metadata": {},
     "output_type": "execute_result"
    }
   ],
   "source": [
    "profiles = pd.read_csv('ashmad/citydata/state data/bronx_ash.csv')\n",
    "profiles.columns"
   ]
  },
  {
   "cell_type": "code",
   "execution_count": 135,
   "metadata": {
    "collapsed": false
   },
   "outputs": [
    {
     "data": {
      "text/plain": [
       "['I love and respect women and love to see them enjoying it.',\n",
       " 'Hi i am a 35 year old male looking for a full figured woman in the NY area.',\n",
       " \"to add on to my profile I may appear innocent on first sight but full of sexual surprises. I'm willing to try anything once and yearning to expand my horizons. My partner is the only one I've ever been with so I have alot to offer by bringing my openess to the table and becoming someone's apprentice. Light skin, light brown eyes, long brown hair and pretty face. Loads of fun with a wild imagination.\",\n",
       " 'WHAT TO TALK AND MAYBE GO FURTHER WITH A ATTRACTIVE WOMAN.',\n",
       " 'meet someone for fun encounters.']"
      ]
     },
     "execution_count": 135,
     "metadata": {},
     "output_type": "execute_result"
    }
   ],
   "source": [
    "#I focused on the pref_opento_abstract column. Here's a sample.\n",
    "list(profiles[profiles['pref_opento_abstract'].notnull()]['pref_opento_abstract'].head())"
   ]
  },
  {
   "cell_type": "code",
   "execution_count": null,
   "metadata": {
    "collapsed": true
   },
   "outputs": [],
   "source": [
    "path = os.getcwd()+'/ashmad/citydata/state data/'\n",
    "files=os.listdir(path)"
   ]
  },
  {
   "cell_type": "code",
   "execution_count": 126,
   "metadata": {
    "collapsed": false
   },
   "outputs": [
    {
     "data": {
      "text/plain": [
       "['burlington_ash.csv',\n",
       " 'washington_ash.csv',\n",
       " 'san antonio_ash.csv',\n",
       " 'sacramento_ash.csv',\n",
       " 'boston_ash.csv']"
      ]
     },
     "execution_count": 126,
     "metadata": {},
     "output_type": "execute_result"
    }
   ],
   "source": [
    "files[:5]"
   ]
  },
  {
   "cell_type": "code",
   "execution_count": 32,
   "metadata": {
    "collapsed": false
   },
   "outputs": [],
   "source": [
    "# for all the city data, take the non-null male profiles. \n",
    "male_profile=[]\n",
    "for a in files:\n",
    "    try:\n",
    "        yx=pd.read_csv(path+a)\n",
    "        male_profile.append(list(yx[(yx['gender']==2) & (yx['pref_opento_abstract'].notnull())]['pref_opento_abstract'].values))\n",
    "    except:\n",
    "        pass\n",
    "\n",
    "#female_profile = list(yx[yx['gender']==1][yx['pref_opento_abstract'].notnull()]['pref_opento_abstract'].values)"
   ]
  },
  {
   "cell_type": "code",
   "execution_count": 54,
   "metadata": {
    "collapsed": false
   },
   "outputs": [
    {
     "data": {
      "text/plain": [
       "['Looking for adventure in Toronto, Canada',\n",
       " 'young strong and willing to learn from an experienced woman.. but i still got a few tricks of my own.',\n",
       " 'Just about anythings goes, conventional sex, using sex toys, role play, oral sex, one night stands is cool with me. Looking for that special woman that willing to discover her unlimited supply of orgasms. Have a good since of humor I\\xe2\\x80\\x99m open for threesome or more with safe sex, but I DON\\xe2\\x80\\x99T MENS. I\\xe2\\x80\\x99m very private and very discrete.',\n",
       " \"I consider myself to be open minded and adventurous but don't have any particular fetishes...I think that a relationship should be fun and I especially like to make sure that my partner is satisfied...I especially like giving oral sex to an appreciative partner.\",\n",
       " \"I hope to meet some new friends who are a little bored with the everyday thing at home, but don't want to change their lifestyle.  Love the antcipation of the first kiss...you can't get that at home, can ya?\"]"
      ]
     },
     "execution_count": 54,
     "metadata": {},
     "output_type": "execute_result"
    }
   ],
   "source": [
    "#take a peek at all the male profiles\n",
    "male_profile[2][:5]"
   ]
  },
  {
   "cell_type": "code",
   "execution_count": 81,
   "metadata": {
    "collapsed": false
   },
   "outputs": [],
   "source": [
    "#Add to list of stopwords\n",
    "stop=stopwords.words('english')+[\"lets\",'let','thats','that','ill','im','id','doesnt',\"couldnt\",'wouldnt','shouldnt','dont','didnt','make','would','like','see']\n",
    "\n",
    "#process the male profiles\n",
    "yeah = [b for a in male_profile for b in a]\n",
    "ok=[a.lower().translate(None, string.punctuation).split() for a in yeah ]\n",
    "bok = [[b for b in a if b not in stop] for a in ok]\n",
    "\n",
    "# remove single frequency words\n",
    "from collections import defaultdict\n",
    "frequency = defaultdict(int)\n",
    "for text in bok:\n",
    "    for token in text:\n",
    "        frequency[token] += 1\n",
    "texts = [[token for token in text if frequency[token] > 1] for text in bok]"
   ]
  },
  {
   "cell_type": "markdown",
   "metadata": {},
   "source": [
    "# Use Gensim to try an LDA model on the male profiles"
   ]
  },
  {
   "cell_type": "code",
   "execution_count": 59,
   "metadata": {
    "collapsed": false
   },
   "outputs": [
    {
     "data": {
      "text/plain": [
       "496815"
      ]
     },
     "execution_count": 59,
     "metadata": {},
     "output_type": "execute_result"
    }
   ],
   "source": [
    "dictionary = gensim.corpora.Dictionary(texts)\n",
    "corpus = [dictionary.doc2bow(text) for text in texts]\n",
    "gensim.corpora.MmCorpus.serialize('/tmp/ash.mm', corpus)\n",
    "mm = gensim.corpora.MmCorpus('/tmp/ash.mm')"
   ]
  },
  {
   "cell_type": "code",
   "execution_count": 92,
   "metadata": {
    "collapsed": false
   },
   "outputs": [
    {
     "name": "stdout",
     "output_type": "stream",
     "text": [
      "MmCorpus(496815 documents, 50930 features, 6595565 non-zero entries)\n"
     ]
    }
   ],
   "source": [
    "print mm"
   ]
  },
  {
   "cell_type": "code",
   "execution_count": 239,
   "metadata": {
    "collapsed": false
   },
   "outputs": [],
   "source": [
    "lda = gensim.models.ldamodel.LdaModel(mm, id2word=dictionary,num_topics=20, update_every=1, chunksize=1000, passes=3)"
   ]
  },
  {
   "cell_type": "code",
   "execution_count": 242,
   "metadata": {
    "collapsed": false
   },
   "outputs": [],
   "source": [
    "topics=lda.print_topics(20)"
   ]
  },
  {
   "cell_type": "code",
   "execution_count": 243,
   "metadata": {
    "collapsed": false
   },
   "outputs": [
    {
     "data": {
      "text/plain": [
       "[u'0.037*contact + 0.027*read + 0.027*please + 0.025*youre + 0.023*message + 0.021*interested + 0.020*profile + 0.017*member + 0.015*send + 0.015*hot',\n",
       " u'0.035*u + 0.032*ask + 0.030*lol + 0.023*wanna + 0.022*hey + 0.018*play + 0.017*love + 0.015*cause + 0.015*hard + 0.014*skinny',\n",
       " u'0.048*bed + 0.031*getting + 0.027*big + 0.025*sex + 0.020*super + 0.019*going + 0.018*shy + 0.018*live + 0.017*worth + 0.017*tend',\n",
       " u'0.098*fun + 0.082*looking + 0.046*good + 0.041*guy + 0.035*time + 0.022*love + 0.020*someone + 0.019*going + 0.015*outdoors + 0.014*nice',\n",
       " u'0.026*free + 0.023*active + 0.016*well + 0.015*professional + 0.014*good + 0.014*working + 0.014*educated + 0.012*future + 0.012*enjoy + 0.012*fit',\n",
       " u'0.017*lead + 0.015*blush + 0.015*one + 0.014*night + 0.012*take + 0.012*stand + 0.011*us + 0.009*connection + 0.009*checking + 0.008*everything',\n",
       " u'0.028*female + 0.022*kinky + 0.020*dream + 0.020*exploring + 0.018*box + 0.018*beautiful + 0.017*pleasure + 0.017*faithful + 0.015*sexual + 0.012*enjoys',\n",
       " u'0.097*y + 0.059*life + 0.028*adventures + 0.027*los + 0.024*live + 0.020*living + 0.019*angeles + 0.017*fullest + 0.016*world + 0.015*enjoy',\n",
       " u'0.043*heart + 0.026*soul + 0.019*understanding + 0.018*lady + 0.018*simple + 0.016*sincere + 0.015*man + 0.013*loyal + 0.012*makes + 0.011*value',\n",
       " u'0.042*going + 0.040*anything + 0.036*open + 0.034*beach + 0.025*sweet + 0.019*right + 0.017*ready + 0.016*cool + 0.016*random + 0.015*whatever',\n",
       " u'0.039*soy + 0.029*de + 0.029*que + 0.024*la + 0.023*gusta + 0.022*un + 0.021*una + 0.016*el + 0.014*en + 0.012*con',\n",
       " u'0.077*email + 0.034*name + 0.034*hit + 0.026*better + 0.022*send + 0.019*number + 0.019*earth + 0.017*i\\u2019m + 0.016*party + 0.016*depends',\n",
       " u'0.044*hi + 0.030*men + 0.021*older + 0.019*women + 0.016*solo + 0.016*private + 0.014*tight + 0.014*pics + 0.011*young + 0.010*interested',\n",
       " u'0.052*love + 0.051*music + 0.026*dancing + 0.024*food + 0.021*playing + 0.016*going + 0.016*nature + 0.014*laid + 0.014*traveling + 0.013*god',\n",
       " u'0.102*love + 0.019*sex + 0.014*woman + 0.011*give + 0.011*enjoy + 0.011*body + 0.009*good + 0.009*oral + 0.009*women + 0.009*long',\n",
       " u'0.138*new + 0.043*things + 0.039*people + 0.028*love + 0.024*try + 0.024*something + 0.018*trying + 0.016*learn + 0.016*meeting + 0.015*open',\n",
       " u'0.043*fun + 0.038*know + 0.035*want + 0.033*looking + 0.028*get + 0.025*meet + 0.019*lets + 0.018*hello + 0.018*time + 0.018*go',\n",
       " u'0.041*life + 0.030*man + 0.022*love + 0.022*person + 0.017*good + 0.014*people + 0.014*kind + 0.013*happy + 0.013*honest + 0.012*sense',\n",
       " u'0.037*nsa + 0.023*seeking + 0.022*la + 0.020*looking + 0.020*married + 0.019*years + 0.018*lifestyle + 0.017*mellow + 0.016*currently + 0.014*sugar',\n",
       " u'0.121*looking + 0.044*someone + 0.043*man + 0.026*relationship + 0.025*fun + 0.023*want + 0.020*woman + 0.015*long + 0.012*wants + 0.012*serious']"
      ]
     },
     "execution_count": 243,
     "metadata": {},
     "output_type": "execute_result"
    }
   ],
   "source": [
    "topics"
   ]
  },
  {
   "cell_type": "markdown",
   "metadata": {},
   "source": [
    "# I try non-negative matrix factorisation to topic-model the profile abstracts here. It's a lot quicker than LSA or LDA."
   ]
  },
  {
   "cell_type": "code",
   "execution_count": 118,
   "metadata": {
    "collapsed": false
   },
   "outputs": [],
   "source": [
    "tx = [\" \".join(a) for a in texts]"
   ]
  },
  {
   "cell_type": "code",
   "execution_count": 120,
   "metadata": {
    "collapsed": false
   },
   "outputs": [
    {
     "name": "stdout",
     "output_type": "stream",
     "text": [
      "Loading dataset and extracting TF-IDF features...\n",
      "done in 14.866s.\n",
      "Fitting the NMF model with n_samples=496815 and n_features=5000...\n",
      "done in 87.230s.\n",
      "Topic #0:\n",
      "paiddelete hi ladies meet guy say name nice chat people talk single site hope thanks checking interested girls friends everyone\n",
      "\n",
      "Topic #1:\n",
      "fun guy loving outgoing going nsa little drama likes strings wanna easy adventurous person lookin young safe ready clean times\n",
      "\n",
      "Topic #2:\n",
      "love women outdoors oral please sports woman give travel music play giving making also movies go going laugh pleasure adventure\n",
      "\n",
      "Topic #3:\n",
      "life enjoy excitement live short guy going little need spice person fullest passion great back adventure work loves easy hard\n",
      "\n",
      "Topic #4:\n",
      "new open anything things try minded people something trying willing pretty meet always almost experiences exciting much person meeting goes\n",
      "\n",
      "Topic #5:\n",
      "want know woman get please one women feel ask really man relationship find need interested wants take well married right\n",
      "\n",
      "Topic #6:\n",
      "looking discreet something excitement relationship woman married attached little adventure friend strings change nsa man term professional discrete situation women\n",
      "\n",
      "Topic #7:\n",
      "good time guy spend great times work conversation always sense humor free nice going go take long company food laugh\n",
      "\n",
      "Topic #8:\n",
      "sex oral drive high giving great give hot partner need wife married strings really receiving much passionate casual attached lots\n",
      "\n",
      "Topic #9:\n",
      "someone meet find wants share need special likes relationship talk interested spend situation connect go enjoys knows needs hang similar\n",
      "\n"
     ]
    }
   ],
   "source": [
    "from __future__ import print_function\n",
    "from time import time\n",
    "from sklearn.feature_extraction.text import TfidfVectorizer\n",
    "from sklearn.decomposition import NMF\n",
    "\n",
    "n_samples = len(tx)\n",
    "n_features = 5000\n",
    "n_topics = 10\n",
    "n_top_words = 20\n",
    "\n",
    "t0 = time()\n",
    "print(\"Loading dataset and extracting TF-IDF features...\")\n",
    "\n",
    "\n",
    "vectorizer = TfidfVectorizer(max_df=0.95, min_df=2, max_features=n_features)\n",
    "tfidf = vectorizer.fit_transform(tx)\n",
    "print(\"done in %0.3fs.\" % (time() - t0))\n",
    "\n",
    "# Fit the NMF model\n",
    "print(\"Fitting the NMF model with n_samples=%d and n_features=%d...\"\n",
    "      % (n_samples, n_features))\n",
    "nmf = NMF(n_components=n_topics, random_state=1).fit(tfidf)\n",
    "print(\"done in %0.3fs.\" % (time() - t0))\n",
    "\n",
    "feature_names = vectorizer.get_feature_names()\n",
    "\n",
    "for topic_idx, topic in enumerate(nmf.components_):\n",
    "    print(\"Topic #%d:\" % topic_idx)\n",
    "    print(\" \".join([feature_names[i]\n",
    "                    for i in topic.argsort()[:-n_top_words - 1:-1]]))\n",
    "    print()"
   ]
  }
 ],
 "metadata": {
  "kernelspec": {
   "display_name": "Python 2",
   "language": "python",
   "name": "python2"
  },
  "language_info": {
   "codemirror_mode": {
    "name": "ipython",
    "version": 2
   },
   "file_extension": ".py",
   "mimetype": "text/x-python",
   "name": "python",
   "nbconvert_exporter": "python",
   "pygments_lexer": "ipython2",
   "version": "2.7.6"
  }
 },
 "nbformat": 4,
 "nbformat_minor": 0
}
