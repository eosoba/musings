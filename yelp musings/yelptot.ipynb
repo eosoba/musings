{
 "metadata": {
  "name": "",
  "signature": "sha256:e2d2b27cb778f8e27e1f97aacf33abc6965e7351e91f962550b2880ad4c56c71"
 },
 "nbformat": 3,
 "nbformat_minor": 0,
 "worksheets": [
  {
   "cells": [
    {
     "cell_type": "code",
     "collapsed": true,
     "input": [
      "cd /media/cunctation/downloads/"
     ],
     "language": "python",
     "metadata": {},
     "outputs": [
      {
       "output_type": "stream",
       "stream": "stdout",
       "text": [
        "/media/cunctation/downloads\n"
       ]
      }
     ],
     "prompt_number": 1
    },
    {
     "cell_type": "heading",
     "level": 1,
     "metadata": {},
     "source": [
      "I was working on the Yelp academic dataset, see here http://www.yelp.com/dataset_challenge. \n",
      "And I settled on a problem of finding ways to identify businesses that are kid-friendly \n",
      "just from the content of their review. The problem morphed into analysing the differences \n",
      "between reviews that contain kid-related keywords and those that do not."
     ]
    },
    {
     "cell_type": "code",
     "collapsed": false,
     "input": [
      "import json\n",
      "import pandas as pd\n",
      "from itertools import chain\n",
      "from collections import Counter\n",
      "import matplotlib.pyplot as plt\n",
      "import numpy as np\n",
      "\n",
      "\n",
      "\n",
      "keyword=['kids','child','children','baby','teenager','son','daughter','kid', 'family','mom','moms','toddler','toddlers']\n",
      "\n",
      "with open(\"yelp_academic_dataset_review.json\", \"r\") as f: #open json file and use data.\n",
      "    data=f.readlines()\n",
      "yelp= pd.DataFrame(json.loads(i) for i in data)\n",
      "nrows = len(yelp)"
     ],
     "language": "python",
     "metadata": {},
     "outputs": []
    },
    {
     "cell_type": "code",
     "collapsed": false,
     "input": [
      "print \"Yelp dataset has \", nrows,\" rows and the following columns fields:\"\n",
      "print yelp.columns\n",
      "print \"-----------------------------------------------------\"\n",
      "print \"The first five rows of the dataset: \"\n",
      "yelp.head()"
     ],
     "language": "python",
     "metadata": {},
     "outputs": [
      {
       "output_type": "stream",
       "stream": "stdout",
       "text": [
        "Yelp dataset has  1125458  rows and the following columns fields:\n",
        "Index([u'business_id', u'date', u'review_id', u'stars', u'text', u'type', u'user_id', u'votes'], dtype='object')\n",
        "-----------------------------------------------------\n",
        "The first five rows of the dataset: \n"
       ]
      },
      {
       "html": [
        "<div style=\"max-height:1000px;max-width:1500px;overflow:auto;\">\n",
        "<table border=\"1\" class=\"dataframe\">\n",
        "  <thead>\n",
        "    <tr style=\"text-align: right;\">\n",
        "      <th></th>\n",
        "      <th>business_id</th>\n",
        "      <th>date</th>\n",
        "      <th>review_id</th>\n",
        "      <th>stars</th>\n",
        "      <th>text</th>\n",
        "      <th>type</th>\n",
        "      <th>user_id</th>\n",
        "      <th>votes</th>\n",
        "    </tr>\n",
        "  </thead>\n",
        "  <tbody>\n",
        "    <tr>\n",
        "      <th>0</th>\n",
        "      <td> vcNAWiLM4dR7D2nwwJ7nCA</td>\n",
        "      <td> 2007-05-17</td>\n",
        "      <td> 15SdjuK7DmYqUAj6rjGowg</td>\n",
        "      <td> 5</td>\n",
        "      <td> dr. goldberg offers everything i look for in a...</td>\n",
        "      <td> review</td>\n",
        "      <td> Xqd0DzHaiyRqVH3WRG7hzg</td>\n",
        "      <td> {u'funny': 0, u'useful': 2, u'cool': 1}</td>\n",
        "    </tr>\n",
        "    <tr>\n",
        "      <th>1</th>\n",
        "      <td> vcNAWiLM4dR7D2nwwJ7nCA</td>\n",
        "      <td> 2010-03-22</td>\n",
        "      <td> RF6UnRTtG7tWMcrO2GEoAg</td>\n",
        "      <td> 2</td>\n",
        "      <td> Unfortunately, the frustration of being Dr. Go...</td>\n",
        "      <td> review</td>\n",
        "      <td> H1kH6QZV7Le4zqTRNxoZow</td>\n",
        "      <td> {u'funny': 0, u'useful': 2, u'cool': 0}</td>\n",
        "    </tr>\n",
        "    <tr>\n",
        "      <th>2</th>\n",
        "      <td> vcNAWiLM4dR7D2nwwJ7nCA</td>\n",
        "      <td> 2012-02-14</td>\n",
        "      <td> -TsVN230RCkLYKBeLsuz7A</td>\n",
        "      <td> 4</td>\n",
        "      <td> Dr. Goldberg has been my doctor for years and ...</td>\n",
        "      <td> review</td>\n",
        "      <td> zvJCcrpm2yOZrxKffwGQLA</td>\n",
        "      <td> {u'funny': 0, u'useful': 1, u'cool': 1}</td>\n",
        "    </tr>\n",
        "    <tr>\n",
        "      <th>3</th>\n",
        "      <td> vcNAWiLM4dR7D2nwwJ7nCA</td>\n",
        "      <td> 2012-03-02</td>\n",
        "      <td> dNocEAyUucjT371NNND41Q</td>\n",
        "      <td> 4</td>\n",
        "      <td> Been going to Dr. Goldberg for over 10 years. ...</td>\n",
        "      <td> review</td>\n",
        "      <td> KBLW4wJA_fwoWmMhiHRVOA</td>\n",
        "      <td> {u'funny': 0, u'useful': 0, u'cool': 0}</td>\n",
        "    </tr>\n",
        "    <tr>\n",
        "      <th>4</th>\n",
        "      <td> vcNAWiLM4dR7D2nwwJ7nCA</td>\n",
        "      <td> 2012-05-15</td>\n",
        "      <td> ebcN2aqmNUuYNoyvQErgnA</td>\n",
        "      <td> 4</td>\n",
        "      <td> Got a letter in the mail last week that said D...</td>\n",
        "      <td> review</td>\n",
        "      <td> zvJCcrpm2yOZrxKffwGQLA</td>\n",
        "      <td> {u'funny': 0, u'useful': 2, u'cool': 1}</td>\n",
        "    </tr>\n",
        "  </tbody>\n",
        "</table>\n",
        "</div>"
       ],
       "metadata": {},
       "output_type": "pyout",
       "prompt_number": 3,
       "text": [
        "              business_id        date               review_id  stars  \\\n",
        "0  vcNAWiLM4dR7D2nwwJ7nCA  2007-05-17  15SdjuK7DmYqUAj6rjGowg      5   \n",
        "1  vcNAWiLM4dR7D2nwwJ7nCA  2010-03-22  RF6UnRTtG7tWMcrO2GEoAg      2   \n",
        "2  vcNAWiLM4dR7D2nwwJ7nCA  2012-02-14  -TsVN230RCkLYKBeLsuz7A      4   \n",
        "3  vcNAWiLM4dR7D2nwwJ7nCA  2012-03-02  dNocEAyUucjT371NNND41Q      4   \n",
        "4  vcNAWiLM4dR7D2nwwJ7nCA  2012-05-15  ebcN2aqmNUuYNoyvQErgnA      4   \n",
        "\n",
        "                                                text    type  \\\n",
        "0  dr. goldberg offers everything i look for in a...  review   \n",
        "1  Unfortunately, the frustration of being Dr. Go...  review   \n",
        "2  Dr. Goldberg has been my doctor for years and ...  review   \n",
        "3  Been going to Dr. Goldberg for over 10 years. ...  review   \n",
        "4  Got a letter in the mail last week that said D...  review   \n",
        "\n",
        "                  user_id                                    votes  \n",
        "0  Xqd0DzHaiyRqVH3WRG7hzg  {u'funny': 0, u'useful': 2, u'cool': 1}  \n",
        "1  H1kH6QZV7Le4zqTRNxoZow  {u'funny': 0, u'useful': 2, u'cool': 0}  \n",
        "2  zvJCcrpm2yOZrxKffwGQLA  {u'funny': 0, u'useful': 1, u'cool': 1}  \n",
        "3  KBLW4wJA_fwoWmMhiHRVOA  {u'funny': 0, u'useful': 0, u'cool': 0}  \n",
        "4  zvJCcrpm2yOZrxKffwGQLA  {u'funny': 0, u'useful': 2, u'cool': 1}  "
       ]
      }
     ],
     "prompt_number": 3
    },
    {
     "cell_type": "heading",
     "level": 2,
     "metadata": {},
     "source": [
      "#classify a review based on if it contains any of the above keywords. \n",
      "#I have chosen to ignore the star rating for now."
     ]
    },
    {
     "cell_type": "code",
     "collapsed": false,
     "input": [
      "def IsReviewKidFriendly(a):\n",
      "    return set(a.lower().split()).isdisjoint(set(keyword))\n",
      "yelp.loc[:,'kids']=~yelp['text'].apply(IsReviewKidFriendly) \n",
      "\n",
      "\n",
      "#restrict yelp data to the following columns.\n",
      "results =yelp[['stars','kids']]\n",
      "#Add columns for funny, useful and cool votes for review\n",
      "results.loc[:,'funny'] = [yelp['votes'].iloc[s]['funny'] for s in range(nrows)]\n",
      "results.loc[:,'useful'] = [yelp['votes'].iloc[s]['useful'] for s in range(nrows)]\n",
      "results.loc[:,'cool'] = [yelp['votes'].iloc[s]['cool'] for s in range(nrows)]\n",
      "results.loc[:,'count']=[1]*nrows\n",
      "results.loc[:,'business_id'] = yelp['business_id']\n",
      "del yelp #delete yelp data."
     ],
     "language": "python",
     "metadata": {},
     "outputs": [
      {
       "output_type": "stream",
       "stream": "stderr",
       "text": [
        "/usr/local/lib/python2.7/dist-packages/pandas/core/indexing.py:245: SettingWithCopyWarning: \n",
        "A value is trying to be set on a copy of a slice from a DataFrame.\n",
        "Try using .loc[row_indexer,col_indexer] = value instead\n",
        "\n",
        "See the the caveats in the documentation: http://pandas.pydata.org/pandas-docs/stable/indexing.html#indexing-view-versus-copy\n",
        "  self.obj[key] = np.nan\n",
        "/usr/local/lib/python2.7/dist-packages/pandas/core/indexing.py:415: SettingWithCopyWarning: \n",
        "A value is trying to be set on a copy of a slice from a DataFrame.\n",
        "Try using .loc[row_indexer,col_indexer] = value instead\n",
        "\n",
        "See the the caveats in the documentation: http://pandas.pydata.org/pandas-docs/stable/indexing.html#indexing-view-versus-copy\n",
        "  self.obj[item] = s\n"
       ]
      }
     ],
     "prompt_number": 4
    },
    {
     "cell_type": "code",
     "collapsed": false,
     "input": [
      "# Generate a pivot table using kids and stars as the new index\n",
      "jovely=results.pivot_table(index=['kids','stars'],aggfunc=sum)\n",
      "print \"Pivot table indexed by kids and stars column:\"\n",
      "jovely.head()"
     ],
     "language": "python",
     "metadata": {},
     "outputs": [
      {
       "output_type": "stream",
       "stream": "stdout",
       "text": [
        "Pivot table indexed by kids and stars column:\n"
       ]
      },
      {
       "html": [
        "<div style=\"max-height:1000px;max-width:1500px;overflow:auto;\">\n",
        "<table border=\"1\" class=\"dataframe\">\n",
        "  <thead>\n",
        "    <tr style=\"text-align: right;\">\n",
        "      <th></th>\n",
        "      <th></th>\n",
        "      <th>cool</th>\n",
        "      <th>count</th>\n",
        "      <th>funny</th>\n",
        "      <th>useful</th>\n",
        "    </tr>\n",
        "    <tr>\n",
        "      <th>kids</th>\n",
        "      <th>stars</th>\n",
        "      <th></th>\n",
        "      <th></th>\n",
        "      <th></th>\n",
        "      <th></th>\n",
        "    </tr>\n",
        "  </thead>\n",
        "  <tbody>\n",
        "    <tr>\n",
        "      <th rowspan=\"5\" valign=\"top\">False</th>\n",
        "      <th>1</th>\n",
        "      <td>  33757</td>\n",
        "      <td> 100131</td>\n",
        "      <td>  64476</td>\n",
        "      <td> 134472</td>\n",
        "    </tr>\n",
        "    <tr>\n",
        "      <th>2</th>\n",
        "      <td>  44583</td>\n",
        "      <td>  93979</td>\n",
        "      <td>  57608</td>\n",
        "      <td> 114400</td>\n",
        "    </tr>\n",
        "    <tr>\n",
        "      <th>3</th>\n",
        "      <td>  93813</td>\n",
        "      <td> 150648</td>\n",
        "      <td>  82046</td>\n",
        "      <td> 160301</td>\n",
        "    </tr>\n",
        "    <tr>\n",
        "      <th>4</th>\n",
        "      <td> 233969</td>\n",
        "      <td> 312658</td>\n",
        "      <td> 160183</td>\n",
        "      <td> 344025</td>\n",
        "    </tr>\n",
        "    <tr>\n",
        "      <th>5</th>\n",
        "      <td> 240930</td>\n",
        "      <td> 367938</td>\n",
        "      <td> 154100</td>\n",
        "      <td> 371772</td>\n",
        "    </tr>\n",
        "  </tbody>\n",
        "</table>\n",
        "</div>"
       ],
       "metadata": {},
       "output_type": "pyout",
       "prompt_number": 5,
       "text": [
        "               cool   count   funny  useful\n",
        "kids  stars                                \n",
        "False 1       33757  100131   64476  134472\n",
        "      2       44583   93979   57608  114400\n",
        "      3       93813  150648   82046  160301\n",
        "      4      233969  312658  160183  344025\n",
        "      5      240930  367938  154100  371772"
       ]
      }
     ],
     "prompt_number": 5
    },
    {
     "cell_type": "code",
     "collapsed": false,
     "input": [
      "%matplotlib inline"
     ],
     "language": "python",
     "metadata": {},
     "outputs": [],
     "prompt_number": 6
    },
    {
     "cell_type": "code",
     "collapsed": false,
     "input": [
      "#Generate a normalised bar plot of review stars grouped by whether the review is labeled kids-related or not\n",
      "N = 5 \n",
      "sm=jovely.query('kids==True')['count'].sum()  # number of kids-related reviews\n",
      "normt = (jovely.query('kids==True')['count']/sm).reset_index()\n",
      "kid = normt['count'].values #normalised frequency counts of the star ratings \n",
      "ind = np.arange(N)  # the x locations for the groups\n",
      "width = 0.35       # the width of the bars\n",
      "fig, ax = plt.subplots()\n",
      "rects1 = ax.bar(ind, kid, width, color='r',alpha=0.7)\n",
      "\n",
      "\n",
      "#Plot the bar plot for the second group\n",
      "smf=jovely.query('kids==False')['count'].sum()\n",
      "normf = (jovely.query('kids==False')['count']/smf).reset_index()\n",
      "notkid = normf['count'].values\n",
      "rects2 = ax.bar(ind+width, notkid, width, color='y',alpha=0.5)\n",
      "\n",
      "\n",
      "# add some text for labels, title and axes ticks\n",
      "ax.set_ylabel('Probability')\n",
      "ax.set_title('Distribution of Business Star Ratings.')\n",
      "ax.set_xticks(ind+width)\n",
      "ax.set_xticklabels( ('1', '2', '3', '4', '5') )\n",
      "ax.legend( (rects1[0], rects2[0]), ('Kid-related reviews', 'Non Kid-related reviews'),loc = 'upper left' )\n",
      "plt.show()"
     ],
     "language": "python",
     "metadata": {},
     "outputs": [
      {
       "metadata": {},
       "output_type": "display_data",
       "png": "[encoded data removed]",
       "text": [
        "<matplotlib.figure.Figure at 0x7f1dc8523950>"
       ]
      }
     ],
     "prompt_number": 7
    },
    {
     "cell_type": "code",
     "collapsed": false,
     "input": [
      "#Generate a histogram of vote counts for the kid-related reviews and non-kid-related reviews\n",
      "results.loc[:,'tots'] = results[['funny','useful','cool']].sum(axis=1) #record a vote count for each review\n",
      "fig, ax = plt.subplots()\n",
      "plt.hist(results.query('kids==True')['tots'].values,bottom=0.01, bins=50,color='b',alpha=0.8,label='kid-friendly reviews')\n",
      "plt.hist(results.query('kids==False')['tots'].values,bottom=0.01,bins=50, color='r', alpha=0.5,label='Non kid-friendly reviews')\n",
      "plt.xlabel('Aggregate vote counts')\n",
      "plt.ylabel('Frequency')\n",
      "ax.set_yscale('log')\n",
      "plt.title(\"Vote Counts Histogram\")\n",
      "plt.legend()\n",
      "\n"
     ],
     "language": "python",
     "metadata": {},
     "outputs": [
      {
       "metadata": {},
       "output_type": "pyout",
       "prompt_number": 8,
       "text": [
        "<matplotlib.legend.Legend at 0x5c23fbd0>"
       ]
      },
      {
       "metadata": {},
       "output_type": "display_data",
       "png": "[encoded data removed]",
       "text": [
        "<matplotlib.figure.Figure at 0x4bc69710>"
       ]
      }
     ],
     "prompt_number": 8
    },
    {
     "cell_type": "heading",
     "level": 1,
     "metadata": {},
     "source": [
      "Plot a distribution of the business categories for the two review groups."
     ]
    },
    {
     "cell_type": "heading",
     "level": 2,
     "metadata": {},
     "source": [
      "In order to extract business categories, I have to cross-reference business ids of \n",
      "the reviews with another yelp dataset that contains the business categories."
     ]
    },
    {
     "cell_type": "code",
     "collapsed": false,
     "input": [
      "with open(\"yelp_academic_dataset_business.json\", \"r\") as f:\n",
      "    data=f.readlines()\n",
      "business_dat= pd.DataFrame(json.loads(i) for i in data)\n",
      "business_dat.set_index(keys='business_id',inplace=True) #reindex data using the business-id as the new keys\n",
      "\n",
      "\n",
      "good_buis=results[results['kids']==True]['business_id'].unique() #business ids of reviews that are kid-related\n",
      "good_categories=[business_dat.loc[s]['categories'] for s in good_buis] #retrieve the categories for businesses labeled as kid-friendly\n",
      "good_categories=list(chain(*good_categories)) #flatten the two level list.\n",
      "good_categories_freq = Counter(good_categories) #get the frequency list of the categories\n",
      "print \"The fifteen most popular categories of business labeled as kid friendly, \"\n",
      "for i in good_categories_freq.most_common(15):\n",
      "    print i[0],\" \", i[1]"
     ],
     "language": "python",
     "metadata": {},
     "outputs": [
      {
       "output_type": "stream",
       "stream": "stdout",
       "text": [
        "The fifteen most popular categories of business labeled as kid friendly, \n",
        "Restaurants   9482\n",
        "Food   2716\n",
        "Shopping   2635\n",
        "Beauty & Spas   1467\n",
        "Nightlife   1462\n",
        "Health & Medical   1222\n",
        "Bars   1218\n",
        "Mexican   1135\n",
        "Active Life   1128\n",
        "American (Traditional)   1110\n",
        "Pizza   1017\n",
        "Event Planning & Services   979\n",
        "Arts & Entertainment   863\n",
        "Automotive   806\n",
        "Italian   792\n"
       ]
      }
     ],
     "prompt_number": 9
    },
    {
     "cell_type": "code",
     "collapsed": false,
     "input": [
      "#Let's try to make a bubble chart of the 15 most popular business categories.\n",
      "n=15\n",
      "txt=np.array([good_categories_freq.most_common(i)[-1][0] for i in range(1,n+1)])\n",
      "y=np.array([good_categories_freq.most_common(i)[-1][1] for i in range(1,n+1)])\n",
      "x=np.arange(n)\n",
      "np.random.shuffle(x)\n",
      "cm = plt.cm.get_cmap('jet')\n",
      "colors = np.random.rand(n)\n",
      "fig, ax = plt.subplots()\n",
      "\n",
      "#plot the text label first\n",
      "for j,i in enumerate(x):\n",
      "    ax.text(j,y[i],txt[i][0:11],size=7,horizontalalignment='center',stretch=\"ultra-condensed\")\n",
      "plt.scatter(np.arange(n),y[x],s=y[x],c=colors,linewidth=0,alpha=0.5)\n",
      "ax.axes.get_xaxis().set_visible(False)\n",
      "ax.axes.get_yaxis().set_visible(False)\n",
      "ax.axes.set_xlabel('x')\n",
      "ax.axes.set_ylabel('y')\n",
      "ax.axes.set_title('Most common business categories with kids-related reviews');\n",
      "ax.set_ylim([0,15000])\n",
      "plt.show()"
     ],
     "language": "python",
     "metadata": {},
     "outputs": [
      {
       "metadata": {},
       "output_type": "display_data",
       "png": "[encoded data removed]",
       "text": [
        "<matplotlib.figure.Figure at 0x1cc487090>"
       ]
      }
     ],
     "prompt_number": 11
    },
    {
     "cell_type": "code",
     "collapsed": false,
     "input": [],
     "language": "python",
     "metadata": {},
     "outputs": []
    }
   ],
   "metadata": {}
  }
 ]
}