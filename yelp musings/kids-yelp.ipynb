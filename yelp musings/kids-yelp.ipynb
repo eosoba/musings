{
 "cells": [
  {
   "cell_type": "code",
   "execution_count": 1,
   "metadata": {
    "collapsed": false
   },
   "outputs": [],
   "source": [
    "import json\n",
    "import xml.etree.ElementTree as ET\n",
    "import urllib2\n",
    "import pandas as pd\n"
   ]
  },
  {
   "cell_type": "code",
   "execution_count": 2,
   "metadata": {
    "collapsed": false
   },
   "outputs": [
    {
     "data": {
      "text/plain": [
       "Index([u'business_id', u'date', u'review_id', u'stars', u'text', u'type', u'user_id', u'votes'], dtype='object')"
      ]
     },
     "execution_count": 2,
     "metadata": {},
     "output_type": "execute_result"
    }
   ],
   "source": [
    "def is_review_have_keyword(review):\n",
    "    return set(review.lower().split()).isdisjoint(set(keyword))\n",
    "\n",
    "with open(\"yelp_academic_dataset_review.json\", \"r\") as f: #open json file and use data.\n",
    "    data=f.readlines()\n",
    "yelp=pd.Dataframe(json.loads(i) for i in data)\n",
    "print \"Columns Fields: \", columns\n",
    "keywords=['kids','child','children','baby','teenager','son','daughter','kid', 'family','mom','moms','toddler','toddlers']\n",
    "hyt=wow[~wow['text'].apply(is_review_have_keyword)]"
   ]
  },
  {
   "cell_type": "code",
   "execution_count": null,
   "metadata": {
    "collapsed": false
   },
   "outputs": [],
   "source": [
    "with open(\"yelp_academic_dataset_business.json\", \"r\") as f: #open json file and use data.\n",
    "    data=f.readlines()\n",
    "jow= pd.DataFrame(json.loads(i) for i in data)\n",
    "\n",
    "des=pd.DataFrame(jow['categories'].values,index=jow['business_id'])\n",
    "yipee=des.loc[hyt['business_id']]\n",
    "import itertools\n",
    "cate=list(set(list(itertools.chain(*jow['categories'].values))))\n",
    "from collections import defaultdict\n",
    "d = defaultdict(int)\n",
    "for i in cate:\n",
    "    name = i+'_good'\n",
    "    bname = i+'_bad'\n",
    "    for s,j in enumerate(hyt['business_id']):\n",
    "        if (i in yipee[0].loc[j]):\n",
    "            if (hyt['stars'].iloc[s]>3):\n",
    "                d[name]+=1\n",
    "            else:\n",
    "                d[bname]+=1"
   ]
  },
  {
   "cell_type": "code",
   "execution_count": null,
   "metadata": {
    "collapsed": true
   },
   "outputs": [],
   "source": [
    "from nltk.corpus import stopwords\n",
    "import string\n",
    "\n",
    "stop=stopwords.words('english')\n",
    "words = [ w.lower().replace('@','')\n",
    "          for t in hyt['text'] \n",
    "              for w in t.split() ]\n",
    "words = [w.replace('#','') for w in words if w not in stop]\n",
    "c= Counter(words)\n",
    "c.most_common()"
   ]
  },
  {
   "cell_type": "code",
   "execution_count": 19,
   "metadata": {
    "collapsed": false
   },
   "outputs": [],
   "source": [
    "wow['kids']=wow['business_id'].isin(hyt['business_id'])\n",
    "wow[['business_id','stars','kids']].to_csv('ratings.csv')\n"
   ]
  },
  {
   "cell_type": "code",
   "execution_count": 20,
   "metadata": {
    "collapsed": false
   },
   "outputs": [],
   "source": [
    "del hyt"
   ]
  },
  {
   "cell_type": "code",
   "execution_count": 32,
   "metadata": {
    "collapsed": false
   },
   "outputs": [],
   "source": [
    "wow['funny'] =[0]*len(wow)\n",
    "wow['useful'] =[0]*len(wow)\n",
    "wow['cool'] =[0]*len(wow)"
   ]
  },
  {
   "cell_type": "code",
   "execution_count": 24,
   "metadata": {
    "collapsed": false
   },
   "outputs": [],
   "source": [
    "from collections import defaultdict\n",
    "cate = ['funny','useful','cool']\n",
    "d = defaultdict(int)\n",
    "for i in cate:\n",
    "    name = i+'_good'\n",
    "    bname = i+'_bad'\n",
    "    for s in range(len(wow)):\n",
    "       if wow['kids'].iloc[s]:\n",
    "           d[name]+=wow['votes'].iloc[s][i]\n",
    "       else:\n",
    "           d[bname]+=wow['votes'].iloc[s][i]"
   ]
  },
  {
   "cell_type": "code",
   "execution_count": null,
   "metadata": {
    "collapsed": false
   },
   "outputs": [],
   "source": [
    "for s in range(len(wow)):\n",
    "    for i in cate:\n",
    "       wow[i].iloc[s]+=wow['votes'].iloc[s][i]"
   ]
  },
  {
   "cell_type": "code",
   "execution_count": 30,
   "metadata": {
    "collapsed": false
   },
   "outputs": [],
   "source": [
    "vote.to_csv('vote_ratings.csv')\n"
   ]
  },
  {
   "cell_type": "code",
   "execution_count": null,
   "metadata": {
    "collapsed": false
   },
   "outputs": [],
   "source": [
    "del wow['funny']"
   ]
  },
  {
   "cell_type": "code",
   "execution_count": null,
   "metadata": {
    "collapsed": false
   },
   "outputs": [],
   "source": []
  }
 ],
 "metadata": {
  "kernelspec": {
   "display_name": "Python 2",
   "language": "python",
   "name": "python2"
  },
  "language_info": {
   "codemirror_mode": {
    "name": "ipython",
    "version": 2
   },
   "file_extension": ".py",
   "mimetype": "text/x-python",
   "name": "python",
   "nbconvert_exporter": "python",
   "pygments_lexer": "ipython2",
   "version": "2.7.6"
  }
 },
 "nbformat": 4,
 "nbformat_minor": 0
}
