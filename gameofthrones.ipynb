{
 "cells": [
  {
   "cell_type": "markdown",
   "metadata": {},
   "source": [
    "I scraped game of thrones book one reviews. Here's a look at them."
   ]
  },
  {
   "cell_type": "code",
   "execution_count": 12,
   "metadata": {
    "collapsed": true
   },
   "outputs": [],
   "source": [
    "from amazon_scraper import AmazonScraper\n",
    "amazon =  AmazonScraper('', '', '')"
   ]
  },
  {
   "cell_type": "code",
   "execution_count": null,
   "metadata": {
    "collapsed": true
   },
   "outputs": [],
   "source": [
    "p = amazon.lookup(ItemId='0553593714')\n",
    "junk=list(p.reviews)\n",
    "rws_dict=[]\n",
    "ln= len(junk)\n",
    "for a in range(0,ln):\n",
    "    try:\n",
    "        print a\n",
    "        rws_dict.append(junk[a].full_review().to_dict())\n"
   ]
  },
  {
   "cell_type": "code",
   "execution_count": null,
   "metadata": {
    "collapsed": true
   },
   "outputs": [],
   "source": [
    "#import to serialize for later work\n",
    "import pickle\n",
    "pickle.dump(rws,open('lop.p',rb))"
   ]
  },
  {
   "cell_type": "code",
   "execution_count": 1,
   "metadata": {
    "collapsed": true
   },
   "outputs": [],
   "source": [
    "rws = pickle.load( open( \"lop.p\", \"rb\" ))"
   ]
  },
  {
   "cell_type": "code",
   "execution_count": 19,
   "metadata": {
    "collapsed": false
   },
   "outputs": [
    {
     "data": {
      "text/plain": [
       "u\"This book and series are dark--definitely for a mature audience. There is no doubt that Martin is an excellent craftsmen. He knows how to get us into the heads of his different characters, and the span is majestic. However, I am deeply disturbed that this book is included in lists next to J. R. R. Tolkien's Lord of the Rings. These series are nothing alike and should not be included together. Parents should not let their teens read these books--there is too much gratuitous violence and sexual situations. The HBO series feels even more like violence porn than the book, but the heart of that is to be found in the original material. There are so many rave reviews of this series you may ignore this one, but trust me there is a radical difference between this epic fantasy and the classics from the 20th century.\""
      ]
     },
     "execution_count": 19,
     "metadata": {},
     "output_type": "execute_result"
    }
   ],
   "source": [
    "rws[2]['text']"
   ]
  },
  {
   "cell_type": "code",
   "execution_count": 8,
   "metadata": {
    "collapsed": true
   },
   "outputs": [],
   "source": [
    "import pandas as pd\n",
    "import numpy as np"
   ]
  },
  {
   "cell_type": "code",
   "execution_count": 15,
   "metadata": {
    "collapsed": false
   },
   "outputs": [],
   "source": [
    "book=pd.DataFrame(rws)\n",
    "\n",
    "book=book[['date','rating','text','title']]"
   ]
  },
  {
   "cell_type": "code",
   "execution_count": 91,
   "metadata": {
    "collapsed": false
   },
   "outputs": [
    {
     "data": {
      "text/plain": [
       "4453"
      ]
     },
     "execution_count": 91,
     "metadata": {},
     "output_type": "execute_result"
    }
   ],
   "source": [
    "len(rws)"
   ]
  },
  {
   "cell_type": "code",
   "execution_count": 16,
   "metadata": {
    "collapsed": false
   },
   "outputs": [
    {
     "data": {
      "text/html": [
       "<div>\n",
       "<table border=\"1\" class=\"dataframe\">\n",
       "  <thead>\n",
       "    <tr style=\"text-align: right;\">\n",
       "      <th></th>\n",
       "      <th>date</th>\n",
       "      <th>rating</th>\n",
       "      <th>text</th>\n",
       "      <th>title</th>\n",
       "    </tr>\n",
       "  </thead>\n",
       "  <tbody>\n",
       "    <tr>\n",
       "      <th>0</th>\n",
       "      <td>2016-03-30 07:54:43+00:00</td>\n",
       "      <td>0.8</td>\n",
       "      <td>Very well written.  I love the character and c...</td>\n",
       "      <td>Great characters</td>\n",
       "    </tr>\n",
       "    <tr>\n",
       "      <th>1</th>\n",
       "      <td>2016-03-30 07:04:35+00:00</td>\n",
       "      <td>1.0</td>\n",
       "      <td>Amazing Roy dotrice is the man!</td>\n",
       "      <td>Five Stars</td>\n",
       "    </tr>\n",
       "    <tr>\n",
       "      <th>2</th>\n",
       "      <td>2016-03-29 18:21:46+00:00</td>\n",
       "      <td>0.2</td>\n",
       "      <td>This book and series are dark--definitely for ...</td>\n",
       "      <td>Dark and Twisted Series, Not for Teens</td>\n",
       "    </tr>\n",
       "    <tr>\n",
       "      <th>3</th>\n",
       "      <td>2016-03-29 16:32:26+00:00</td>\n",
       "      <td>1.0</td>\n",
       "      <td>Read it. You won't regret it.</td>\n",
       "      <td>Five Stars</td>\n",
       "    </tr>\n",
       "    <tr>\n",
       "      <th>4</th>\n",
       "      <td>2016-03-29 11:09:00+00:00</td>\n",
       "      <td>1.0</td>\n",
       "      <td>Love, Love Love!!! So brilliant and engaging.</td>\n",
       "      <td>Five Stars</td>\n",
       "    </tr>\n",
       "  </tbody>\n",
       "</table>\n",
       "</div>"
      ],
      "text/plain": [
       "                       date  rating  \\\n",
       "0 2016-03-30 07:54:43+00:00     0.8   \n",
       "1 2016-03-30 07:04:35+00:00     1.0   \n",
       "2 2016-03-29 18:21:46+00:00     0.2   \n",
       "3 2016-03-29 16:32:26+00:00     1.0   \n",
       "4 2016-03-29 11:09:00+00:00     1.0   \n",
       "\n",
       "                                                text  \\\n",
       "0  Very well written.  I love the character and c...   \n",
       "1                    Amazing Roy dotrice is the man!   \n",
       "2  This book and series are dark--definitely for ...   \n",
       "3                      Read it. You won't regret it.   \n",
       "4      Love, Love Love!!! So brilliant and engaging.   \n",
       "\n",
       "                                    title  \n",
       "0                        Great characters  \n",
       "1                              Five Stars  \n",
       "2  Dark and Twisted Series, Not for Teens  \n",
       "3                              Five Stars  \n",
       "4                              Five Stars  "
      ]
     },
     "execution_count": 16,
     "metadata": {},
     "output_type": "execute_result"
    }
   ],
   "source": [
    "book.head()"
   ]
  },
  {
   "cell_type": "code",
   "execution_count": 78,
   "metadata": {
    "collapsed": false
   },
   "outputs": [],
   "source": [
    "book['year'] = pd.to_datetime(book['date']).dt.year\n",
    "book['month'] = pd.to_datetime(book['date']).dt.month\n",
    "book['day'] = pd.to_datetime(book['date']).dt.dayofweek"
   ]
  },
  {
   "cell_type": "code",
   "execution_count": 24,
   "metadata": {
    "collapsed": false
   },
   "outputs": [
    {
     "name": "stdout",
     "output_type": "stream",
     "text": [
      "Populating the interactive namespace from numpy and matplotlib\n"
     ]
    }
   ],
   "source": [
    "%pylab inline"
   ]
  },
  {
   "cell_type": "code",
   "execution_count": 77,
   "metadata": {
    "collapsed": false
   },
   "outputs": [
    {
     "data": {
      "text/plain": [
       "<matplotlib.axes.AxesSubplot at 0x7fc43d244b10>"
      ]
     },
     "execution_count": 77,
     "metadata": {},
     "output_type": "execute_result"
    },
    {
     "data": {
      "image/png": "[encoded data removed]",
      "text/plain": [
       "<matplotlib.figure.Figure at 0x7fc43d26f150>"
      ]
     },
     "metadata": {},
     "output_type": "display_data"
    }
   ],
   "source": [
    "#yearly distribution of book reviews\n",
    "book['year'].hist(bins=30)"
   ]
  },
  {
   "cell_type": "code",
   "execution_count": 83,
   "metadata": {
    "collapsed": false
   },
   "outputs": [
    {
     "data": {
      "text/plain": [
       "<matplotlib.axes.AxesSubplot at 0x7fc43d0850d0>"
      ]
     },
     "execution_count": 83,
     "metadata": {},
     "output_type": "execute_result"
    },
    {
     "data": {
      "image/png": "[encoded data removed]",
      "text/plain": [
       "<matplotlib.figure.Figure at 0x7fc441b09850>"
      ]
     },
     "metadata": {},
     "output_type": "display_data"
    }
   ],
   "source": [
    "#monthly distribution of book reviews\n",
    "book['day'].hist(bins=7)"
   ]
  },
  {
   "cell_type": "code",
   "execution_count": 76,
   "metadata": {
    "collapsed": false
   },
   "outputs": [
    {
     "data": {
      "text/plain": [
       "<matplotlib.axes.AxesSubplot at 0x7fc43d2ce9d0>"
      ]
     },
     "execution_count": 76,
     "metadata": {},
     "output_type": "execute_result"
    },
    {
     "data": {
      "image/png": "[encoded data removed]",
      "text/plain": [
       "<matplotlib.figure.Figure at 0x7fc43d9eb7d0>"
      ]
     },
     "metadata": {},
     "output_type": "display_data"
    }
   ],
   "source": [
    "#monthly distribution of book reviews\n",
    "book['month'].hist(bins=24)"
   ]
  },
  {
   "cell_type": "code",
   "execution_count": 29,
   "metadata": {
    "collapsed": false
   },
   "outputs": [],
   "source": [
    "book['wordcount']=book['text'].str.split().apply(lambda x : len(x))"
   ]
  },
  {
   "cell_type": "code",
   "execution_count": 89,
   "metadata": {
    "collapsed": false
   },
   "outputs": [
    {
     "data": {
      "text/plain": [
       "array([<matplotlib.axes.AxesSubplot object at 0x7fc43b4ce3d0>,\n",
       "       <matplotlib.axes.AxesSubplot object at 0x7fc43b671910>,\n",
       "       <matplotlib.axes.AxesSubplot object at 0x7fc43b3e1550>,\n",
       "       <matplotlib.axes.AxesSubplot object at 0x7fc43b3ee8d0>,\n",
       "       <matplotlib.axes.AxesSubplot object at 0x7fc43b2c33d0>], dtype=object)"
      ]
     },
     "execution_count": 89,
     "metadata": {},
     "output_type": "execute_result"
    },
    {
     "data": {
      "image/png": "[encoded data removed]",
      "text/plain": [
       "<matplotlib.figure.Figure at 0x7fc43bd8c910>"
      ]
     },
     "metadata": {},
     "output_type": "display_data"
    }
   ],
   "source": [
    "#Distribution of wordcount by rating\n",
    "book['wordcount'].hist(bins=100,by=book['rating'],figsize=(10,12),layout=(5,1))"
   ]
  },
  {
   "cell_type": "code",
   "execution_count": null,
   "metadata": {
    "collapsed": true
   },
   "outputs": [],
   "source": []
  }
 ],
 "metadata": {
  "kernelspec": {
   "display_name": "Python 2",
   "language": "python",
   "name": "python2"
  },
  "language_info": {
   "codemirror_mode": {
    "name": "ipython",
    "version": 2
   },
   "file_extension": ".py",
   "mimetype": "text/x-python",
   "name": "python",
   "nbconvert_exporter": "python",
   "pygments_lexer": "ipython2",
   "version": "2.7.6"
  }
 },
 "nbformat": 4,
 "nbformat_minor": 0
}
